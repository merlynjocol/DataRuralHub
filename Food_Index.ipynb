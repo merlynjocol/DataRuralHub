{
  "nbformat": 4,
  "nbformat_minor": 0,
  "metadata": {
    "colab": {
      "name": "Food_Index.ipynb",
      "provenance": [],
      "mount_file_id": "1Y50WrEt3ZdkkrqGKprJscgF3pp8HWpmZ",
      "authorship_tag": "ABX9TyNMRBoCOJCLw26wJEC0Yiww",
      "include_colab_link": true
    },
    "kernelspec": {
      "name": "python3",
      "display_name": "Python 3"
    },
    "language_info": {
      "name": "python"
    }
  },
  "cells": [
    {
      "cell_type": "markdown",
      "metadata": {
        "id": "view-in-github",
        "colab_type": "text"
      },
      "source": [
        "<a href=\"https://colab.research.google.com/github/merlynjocol/DataRuralHub/blob/main/Food_Index.ipynb\" target=\"_parent\"><img src=\"https://colab.research.google.com/assets/colab-badge.svg\" alt=\"Open In Colab\"/></a>"
      ]
    },
    {
      "cell_type": "code",
      "metadata": {
        "colab": {
          "base_uri": "https://localhost:8080/"
        },
        "id": "Rg34tBxJx-2h",
        "outputId": "871bc0ef-10c8-4532-c3b1-8ea5b871a773"
      },
      "source": [
        "\n",
        "from google.colab import drive\n",
        "drive.mount('/content/gdrive')\n",
        "\n"
      ],
      "execution_count": 8,
      "outputs": [
        {
          "output_type": "stream",
          "text": [
            "Drive already mounted at /content/gdrive; to attempt to forcibly remount, call drive.mount(\"/content/gdrive\", force_remount=True).\n"
          ],
          "name": "stdout"
        }
      ]
    },
    {
      "cell_type": "markdown",
      "metadata": {
        "id": "64PczEPnzftN"
      },
      "source": [
        "# **Food Sustainable System Index**\n",
        "\n"
      ]
    },
    {
      "cell_type": "code",
      "metadata": {
        "colab": {
          "base_uri": "https://localhost:8080/"
        },
        "id": "qm4JDcIUzh6y",
        "outputId": "cd89f8db-28bc-42a6-a54f-2a429f8d40a8"
      },
      "source": [
        "#Installing libraries mapping \n",
        "\n",
        "# Important library for many geopython libraries\n",
        "!apt install gdal-bin python-gdal python3-gdal \n",
        "# Install rtree - Geopandas requirment\n",
        "!apt install python3-rtree \n",
        "# Install Geopandas\n",
        "!pip install git+git://github.com/geopandas/geopandas.git\n",
        "# Install descartes - Geopandas requirment\n",
        "!pip install descartes \n",
        "# Install Folium for Geographic data visualization\n",
        "!pip install folium\n",
        "# Install plotlyExpress\n",
        "!pip install plotly_express\n",
        "#Install other libraries \n"
      ],
      "execution_count": 2,
      "outputs": [
        {
          "output_type": "stream",
          "text": [
            "Reading package lists... Done\n",
            "Building dependency tree       \n",
            "Reading state information... Done\n",
            "gdal-bin is already the newest version (2.2.3+dfsg-2).\n",
            "python-gdal is already the newest version (2.2.3+dfsg-2).\n",
            "python3-gdal is already the newest version (2.2.3+dfsg-2).\n",
            "The following package was automatically installed and is no longer required:\n",
            "  libnvidia-common-460\n",
            "Use 'apt autoremove' to remove it.\n",
            "0 upgraded, 0 newly installed, 0 to remove and 34 not upgraded.\n",
            "Reading package lists... Done\n",
            "Building dependency tree       \n",
            "Reading state information... Done\n",
            "python3-rtree is already the newest version (0.8.3+ds-1).\n",
            "The following package was automatically installed and is no longer required:\n",
            "  libnvidia-common-460\n",
            "Use 'apt autoremove' to remove it.\n",
            "0 upgraded, 0 newly installed, 0 to remove and 34 not upgraded.\n",
            "Collecting git+git://github.com/geopandas/geopandas.git\n",
            "  Cloning git://github.com/geopandas/geopandas.git to /tmp/pip-req-build-dlx87hmd\n",
            "  Running command git clone -q git://github.com/geopandas/geopandas.git /tmp/pip-req-build-dlx87hmd\n",
            "Requirement already satisfied (use --upgrade to upgrade): geopandas==0.9.0+20.g0d38f10 from git+git://github.com/geopandas/geopandas.git in /usr/local/lib/python3.7/dist-packages\n",
            "Requirement already satisfied: pandas>=0.24.0 in /usr/local/lib/python3.7/dist-packages (from geopandas==0.9.0+20.g0d38f10) (1.1.5)\n",
            "Requirement already satisfied: shapely>=1.6 in /usr/local/lib/python3.7/dist-packages (from geopandas==0.9.0+20.g0d38f10) (1.7.1)\n",
            "Requirement already satisfied: fiona>=1.8 in /usr/local/lib/python3.7/dist-packages (from geopandas==0.9.0+20.g0d38f10) (1.8.19)\n",
            "Requirement already satisfied: pyproj>=2.2.0 in /usr/local/lib/python3.7/dist-packages (from geopandas==0.9.0+20.g0d38f10) (3.0.1)\n",
            "Requirement already satisfied: numpy>=1.15.4 in /usr/local/lib/python3.7/dist-packages (from pandas>=0.24.0->geopandas==0.9.0+20.g0d38f10) (1.19.5)\n",
            "Requirement already satisfied: python-dateutil>=2.7.3 in /usr/local/lib/python3.7/dist-packages (from pandas>=0.24.0->geopandas==0.9.0+20.g0d38f10) (2.8.1)\n",
            "Requirement already satisfied: pytz>=2017.2 in /usr/local/lib/python3.7/dist-packages (from pandas>=0.24.0->geopandas==0.9.0+20.g0d38f10) (2018.9)\n",
            "Requirement already satisfied: munch in /usr/local/lib/python3.7/dist-packages (from fiona>=1.8->geopandas==0.9.0+20.g0d38f10) (2.5.0)\n",
            "Requirement already satisfied: six>=1.7 in /usr/local/lib/python3.7/dist-packages (from fiona>=1.8->geopandas==0.9.0+20.g0d38f10) (1.15.0)\n",
            "Requirement already satisfied: attrs>=17 in /usr/local/lib/python3.7/dist-packages (from fiona>=1.8->geopandas==0.9.0+20.g0d38f10) (20.3.0)\n",
            "Requirement already satisfied: click<8,>=4.0 in /usr/local/lib/python3.7/dist-packages (from fiona>=1.8->geopandas==0.9.0+20.g0d38f10) (7.1.2)\n",
            "Requirement already satisfied: cligj>=0.5 in /usr/local/lib/python3.7/dist-packages (from fiona>=1.8->geopandas==0.9.0+20.g0d38f10) (0.7.1)\n",
            "Requirement already satisfied: certifi in /usr/local/lib/python3.7/dist-packages (from fiona>=1.8->geopandas==0.9.0+20.g0d38f10) (2020.12.5)\n",
            "Requirement already satisfied: click-plugins>=1.0 in /usr/local/lib/python3.7/dist-packages (from fiona>=1.8->geopandas==0.9.0+20.g0d38f10) (1.1.1)\n",
            "Building wheels for collected packages: geopandas\n",
            "  Building wheel for geopandas (setup.py) ... \u001b[?25l\u001b[?25hdone\n",
            "  Created wheel for geopandas: filename=geopandas-0.9.0+20.g0d38f10-py2.py3-none-any.whl size=995262 sha256=2759a438382c64294e28ea644587718ab4e8821c524575c0deb0d8a859266864\n",
            "  Stored in directory: /tmp/pip-ephem-wheel-cache-irm3l76r/wheels/91/24/71/376c9c67192694168352afcccc2d264248f7e2cc6192997186\n",
            "Successfully built geopandas\n",
            "Requirement already satisfied: descartes in /usr/local/lib/python3.7/dist-packages (1.1.0)\n",
            "Requirement already satisfied: matplotlib in /usr/local/lib/python3.7/dist-packages (from descartes) (3.2.2)\n",
            "Requirement already satisfied: kiwisolver>=1.0.1 in /usr/local/lib/python3.7/dist-packages (from matplotlib->descartes) (1.3.1)\n",
            "Requirement already satisfied: cycler>=0.10 in /usr/local/lib/python3.7/dist-packages (from matplotlib->descartes) (0.10.0)\n",
            "Requirement already satisfied: pyparsing!=2.0.4,!=2.1.2,!=2.1.6,>=2.0.1 in /usr/local/lib/python3.7/dist-packages (from matplotlib->descartes) (2.4.7)\n",
            "Requirement already satisfied: numpy>=1.11 in /usr/local/lib/python3.7/dist-packages (from matplotlib->descartes) (1.19.5)\n",
            "Requirement already satisfied: python-dateutil>=2.1 in /usr/local/lib/python3.7/dist-packages (from matplotlib->descartes) (2.8.1)\n",
            "Requirement already satisfied: six in /usr/local/lib/python3.7/dist-packages (from cycler>=0.10->matplotlib->descartes) (1.15.0)\n",
            "Requirement already satisfied: folium in /usr/local/lib/python3.7/dist-packages (0.8.3)\n",
            "Requirement already satisfied: numpy in /usr/local/lib/python3.7/dist-packages (from folium) (1.19.5)\n",
            "Requirement already satisfied: jinja2 in /usr/local/lib/python3.7/dist-packages (from folium) (2.11.3)\n",
            "Requirement already satisfied: requests in /usr/local/lib/python3.7/dist-packages (from folium) (2.23.0)\n",
            "Requirement already satisfied: six in /usr/local/lib/python3.7/dist-packages (from folium) (1.15.0)\n",
            "Requirement already satisfied: branca>=0.3.0 in /usr/local/lib/python3.7/dist-packages (from folium) (0.4.2)\n",
            "Requirement already satisfied: MarkupSafe>=0.23 in /usr/local/lib/python3.7/dist-packages (from jinja2->folium) (1.1.1)\n",
            "Requirement already satisfied: urllib3!=1.25.0,!=1.25.1,<1.26,>=1.21.1 in /usr/local/lib/python3.7/dist-packages (from requests->folium) (1.24.3)\n",
            "Requirement already satisfied: idna<3,>=2.5 in /usr/local/lib/python3.7/dist-packages (from requests->folium) (2.10)\n",
            "Requirement already satisfied: chardet<4,>=3.0.2 in /usr/local/lib/python3.7/dist-packages (from requests->folium) (3.0.4)\n",
            "Requirement already satisfied: certifi>=2017.4.17 in /usr/local/lib/python3.7/dist-packages (from requests->folium) (2020.12.5)\n",
            "Requirement already satisfied: plotly_express in /usr/local/lib/python3.7/dist-packages (0.4.1)\n",
            "Requirement already satisfied: patsy>=0.5 in /usr/local/lib/python3.7/dist-packages (from plotly_express) (0.5.1)\n",
            "Requirement already satisfied: scipy>=0.18 in /usr/local/lib/python3.7/dist-packages (from plotly_express) (1.4.1)\n",
            "Requirement already satisfied: numpy>=1.11 in /usr/local/lib/python3.7/dist-packages (from plotly_express) (1.19.5)\n",
            "Requirement already satisfied: plotly>=4.1.0 in /usr/local/lib/python3.7/dist-packages (from plotly_express) (4.4.1)\n",
            "Requirement already satisfied: statsmodels>=0.9.0 in /usr/local/lib/python3.7/dist-packages (from plotly_express) (0.10.2)\n",
            "Requirement already satisfied: pandas>=0.20.0 in /usr/local/lib/python3.7/dist-packages (from plotly_express) (1.1.5)\n",
            "Requirement already satisfied: six in /usr/local/lib/python3.7/dist-packages (from patsy>=0.5->plotly_express) (1.15.0)\n",
            "Requirement already satisfied: retrying>=1.3.3 in /usr/local/lib/python3.7/dist-packages (from plotly>=4.1.0->plotly_express) (1.3.3)\n",
            "Requirement already satisfied: pytz>=2017.2 in /usr/local/lib/python3.7/dist-packages (from pandas>=0.20.0->plotly_express) (2018.9)\n",
            "Requirement already satisfied: python-dateutil>=2.7.3 in /usr/local/lib/python3.7/dist-packages (from pandas>=0.20.0->plotly_express) (2.8.1)\n"
          ],
          "name": "stdout"
        }
      ]
    },
    {
      "cell_type": "code",
      "metadata": {
        "id": "kFwiYXTRgRHK"
      },
      "source": [
        "pip install streamlit-d3-demo"
      ],
      "execution_count": null,
      "outputs": []
    },
    {
      "cell_type": "markdown",
      "metadata": {
        "id": "WogJCihTzy8D"
      },
      "source": [
        "Connecting the data"
      ]
    },
    {
      "cell_type": "code",
      "metadata": {
        "colab": {
          "base_uri": "https://localhost:8080/",
          "height": 17
        },
        "id": "w7GDreWyz4iW",
        "outputId": "01e5356e-7d74-461c-dbd5-b0b7b86048cf"
      },
      "source": [
        "#Import libraries\n",
        "import pandas as pd\n",
        "import io\n",
        "from pandas import DataFrame, read_csv   #conda install -c anaconda xlrd\n",
        "from datetime import datetime\n",
        "from matplotlib import rcParams\n",
        "from matplotlib import rcParams\n",
        "import seaborn as sns\n",
        "import numpy as np\n",
        "\n",
        "\n",
        "#choroplet map\n",
        "import warnings\n",
        "import geopandas\n",
        "import matplotlib\n",
        "import matplotlib.pyplot as plt\n",
        "\n",
        "\n",
        "import geopy\n",
        "import folium\n",
        "from folium.plugins import MarkerCluster\n",
        "\n",
        "\n",
        "#build reports\n",
        "from pandas_profiling import ProfileReport\n",
        "\n",
        "#graphs\n",
        "import os\n",
        "from plotly.offline import init_notebook_mode, iplot\n",
        "import plotly.graph_objs as go\n",
        "init_notebook_mode(connected=True)\n",
        "\n"
      ],
      "execution_count": 3,
      "outputs": [
        {
          "output_type": "display_data",
          "data": {
            "text/html": [
              "        <script type=\"text/javascript\">\n",
              "        window.PlotlyConfig = {MathJaxConfig: 'local'};\n",
              "        if (window.MathJax) {MathJax.Hub.Config({SVG: {font: \"STIX-Web\"}});}\n",
              "        if (typeof require !== 'undefined') {\n",
              "        require.undef(\"plotly\");\n",
              "        requirejs.config({\n",
              "            paths: {\n",
              "                'plotly': ['https://cdn.plot.ly/plotly-latest.min']\n",
              "            }\n",
              "        });\n",
              "        require(['plotly'], function(Plotly) {\n",
              "            window._Plotly = Plotly;\n",
              "        });\n",
              "        }\n",
              "        </script>\n",
              "        "
            ]
          },
          "metadata": {
            "tags": []
          }
        }
      ]
    },
    {
      "cell_type": "code",
      "metadata": {
        "id": "Wg7UKNNegY5J"
      },
      "source": [
        "#import Graphs D3.js\n",
        "from streamlit_d3_demo import d3_line"
      ],
      "execution_count": null,
      "outputs": []
    },
    {
      "cell_type": "code",
      "metadata": {
        "colab": {
          "base_uri": "https://localhost:8080/"
        },
        "id": "uEi6qQlxSqKN",
        "outputId": "1925b697-9ce9-4c55-c2e6-129d907a80cc"
      },
      "source": [
        "pip install gspread"
      ],
      "execution_count": 4,
      "outputs": [
        {
          "output_type": "stream",
          "text": [
            "Requirement already satisfied: gspread in /usr/local/lib/python3.7/dist-packages (3.0.1)\n",
            "Requirement already satisfied: requests>=2.2.1 in /usr/local/lib/python3.7/dist-packages (from gspread) (2.23.0)\n",
            "Requirement already satisfied: idna<3,>=2.5 in /usr/local/lib/python3.7/dist-packages (from requests>=2.2.1->gspread) (2.10)\n",
            "Requirement already satisfied: certifi>=2017.4.17 in /usr/local/lib/python3.7/dist-packages (from requests>=2.2.1->gspread) (2020.12.5)\n",
            "Requirement already satisfied: urllib3!=1.25.0,!=1.25.1,<1.26,>=1.21.1 in /usr/local/lib/python3.7/dist-packages (from requests>=2.2.1->gspread) (1.24.3)\n",
            "Requirement already satisfied: chardet<4,>=3.0.2 in /usr/local/lib/python3.7/dist-packages (from requests>=2.2.1->gspread) (3.0.4)\n"
          ],
          "name": "stdout"
        }
      ]
    },
    {
      "cell_type": "markdown",
      "metadata": {
        "id": "blrwdVXl4hw4"
      },
      "source": [
        "## Importing Data"
      ]
    },
    {
      "cell_type": "markdown",
      "metadata": {
        "id": "5HSE_16KW0IF"
      },
      "source": [
        "### Index BCFN"
      ]
    },
    {
      "cell_type": "code",
      "metadata": {
        "colab": {
          "base_uri": "https://localhost:8080/",
          "height": 143
        },
        "id": "8ITMTOSV0nHq",
        "outputId": "3f60afa8-e370-4f07-a18b-9394e1c8172a"
      },
      "source": [
        "# load the data from Google Drive\n",
        "index_BCFN =pd.read_csv('/content/gdrive/MyDrive/Colab Notebooks/Food_Systems_ChallengeHub/ChallengeHub_Data/1_Food System Sustainability Index/Food-Sustainability-Index-BCFN_2018_V2.xlsm - Sheet2.csv')\n",
        "index_BCFN .head(3)\n"
      ],
      "execution_count": 5,
      "outputs": [
        {
          "output_type": "execute_result",
          "data": {
            "text/html": [
              "<div>\n",
              "<style scoped>\n",
              "    .dataframe tbody tr th:only-of-type {\n",
              "        vertical-align: middle;\n",
              "    }\n",
              "\n",
              "    .dataframe tbody tr th {\n",
              "        vertical-align: top;\n",
              "    }\n",
              "\n",
              "    .dataframe thead th {\n",
              "        text-align: right;\n",
              "    }\n",
              "</style>\n",
              "<table border=\"1\" class=\"dataframe\">\n",
              "  <thead>\n",
              "    <tr style=\"text-align: right;\">\n",
              "      <th></th>\n",
              "      <th>No</th>\n",
              "      <th>Country</th>\n",
              "      <th>Index</th>\n",
              "      <th>food_loss_waste</th>\n",
              "      <th>sustainable_ag</th>\n",
              "      <th>nutrition_challenge</th>\n",
              "    </tr>\n",
              "  </thead>\n",
              "  <tbody>\n",
              "    <tr>\n",
              "      <th>0</th>\n",
              "      <td>1</td>\n",
              "      <td>France</td>\n",
              "      <td>76.1</td>\n",
              "      <td>85.8</td>\n",
              "      <td>71.0</td>\n",
              "      <td>71.4</td>\n",
              "    </tr>\n",
              "    <tr>\n",
              "      <th>1</th>\n",
              "      <td>2</td>\n",
              "      <td>Netherlands</td>\n",
              "      <td>75.6</td>\n",
              "      <td>80.7</td>\n",
              "      <td>77.1</td>\n",
              "      <td>69.0</td>\n",
              "    </tr>\n",
              "    <tr>\n",
              "      <th>2</th>\n",
              "      <td>3</td>\n",
              "      <td>Canada</td>\n",
              "      <td>75.3</td>\n",
              "      <td>82.1</td>\n",
              "      <td>73.0</td>\n",
              "      <td>70.9</td>\n",
              "    </tr>\n",
              "  </tbody>\n",
              "</table>\n",
              "</div>"
            ],
            "text/plain": [
              "   No       Country  ...  sustainable_ag  nutrition_challenge\n",
              "0    1       France  ...            71.0                 71.4\n",
              "1    2  Netherlands  ...            77.1                 69.0\n",
              "2    3       Canada  ...            73.0                 70.9\n",
              "\n",
              "[3 rows x 6 columns]"
            ]
          },
          "metadata": {
            "tags": []
          },
          "execution_count": 5
        }
      ]
    },
    {
      "cell_type": "code",
      "metadata": {
        "colab": {
          "base_uri": "https://localhost:8080/"
        },
        "id": "JqFi95-ZlDe2",
        "outputId": "f9a19a35-62f2-499e-a6ff-40f1f2743f23"
      },
      "source": [
        "index_BCFN.info()"
      ],
      "execution_count": 6,
      "outputs": [
        {
          "output_type": "stream",
          "text": [
            "<class 'pandas.core.frame.DataFrame'>\n",
            "RangeIndex: 67 entries, 0 to 66\n",
            "Data columns (total 6 columns):\n",
            " #   Column               Non-Null Count  Dtype  \n",
            "---  ------               --------------  -----  \n",
            " 0   No                   67 non-null     int64  \n",
            " 1   Country              67 non-null     object \n",
            " 2   Index                67 non-null     float64\n",
            " 3   food_loss_waste      67 non-null     float64\n",
            " 4   sustainable_ag       67 non-null     float64\n",
            " 5   nutrition_challenge  67 non-null     float64\n",
            "dtypes: float64(4), int64(1), object(1)\n",
            "memory usage: 3.3+ KB\n"
          ],
          "name": "stdout"
        }
      ]
    },
    {
      "cell_type": "code",
      "metadata": {
        "colab": {
          "base_uri": "https://localhost:8080/",
          "height": 143
        },
        "id": "yWtB7HIkJlPk",
        "outputId": "1d547186-07ef-4ae7-c6fe-a2b39088b69a"
      },
      "source": [
        "# load the data from GitHub\n",
        "url = 'https://raw.githubusercontent.com/merlynjocol/DataRuralHub/main/Data/1_Food%20System%20Sustainability%20Index/Food-Sustainability-Index-BCFN_2018_V2.xlsm%20-%20Sheet2.csv'\n",
        "df1 = pd.read_csv(url)\n",
        "df1.head(3)"
      ],
      "execution_count": 7,
      "outputs": [
        {
          "output_type": "execute_result",
          "data": {
            "text/html": [
              "<div>\n",
              "<style scoped>\n",
              "    .dataframe tbody tr th:only-of-type {\n",
              "        vertical-align: middle;\n",
              "    }\n",
              "\n",
              "    .dataframe tbody tr th {\n",
              "        vertical-align: top;\n",
              "    }\n",
              "\n",
              "    .dataframe thead th {\n",
              "        text-align: right;\n",
              "    }\n",
              "</style>\n",
              "<table border=\"1\" class=\"dataframe\">\n",
              "  <thead>\n",
              "    <tr style=\"text-align: right;\">\n",
              "      <th></th>\n",
              "      <th>No</th>\n",
              "      <th>Country</th>\n",
              "      <th>Index</th>\n",
              "      <th>food_loss_waste</th>\n",
              "      <th>sustainable_ag</th>\n",
              "      <th>nutrition_challenge</th>\n",
              "    </tr>\n",
              "  </thead>\n",
              "  <tbody>\n",
              "    <tr>\n",
              "      <th>0</th>\n",
              "      <td>1</td>\n",
              "      <td>France</td>\n",
              "      <td>76.1</td>\n",
              "      <td>85.8</td>\n",
              "      <td>71.0</td>\n",
              "      <td>71.4</td>\n",
              "    </tr>\n",
              "    <tr>\n",
              "      <th>1</th>\n",
              "      <td>2</td>\n",
              "      <td>Netherlands</td>\n",
              "      <td>75.6</td>\n",
              "      <td>80.7</td>\n",
              "      <td>77.1</td>\n",
              "      <td>69.0</td>\n",
              "    </tr>\n",
              "    <tr>\n",
              "      <th>2</th>\n",
              "      <td>3</td>\n",
              "      <td>Canada</td>\n",
              "      <td>75.3</td>\n",
              "      <td>82.1</td>\n",
              "      <td>73.0</td>\n",
              "      <td>70.9</td>\n",
              "    </tr>\n",
              "  </tbody>\n",
              "</table>\n",
              "</div>"
            ],
            "text/plain": [
              "   No       Country  ...  sustainable_ag  nutrition_challenge\n",
              "0    1       France  ...            71.0                 71.4\n",
              "1    2  Netherlands  ...            77.1                 69.0\n",
              "2    3       Canada  ...            73.0                 70.9\n",
              "\n",
              "[3 rows x 6 columns]"
            ]
          },
          "metadata": {
            "tags": []
          },
          "execution_count": 7
        }
      ]
    },
    {
      "cell_type": "markdown",
      "metadata": {
        "id": "CB7Vtnx0W5I1"
      },
      "source": [
        "Index Global  ( verified CIAT, IPFRI)"
      ]
    },
    {
      "cell_type": "code",
      "metadata": {
        "colab": {
          "base_uri": "https://localhost:8080/",
          "height": 223
        },
        "id": "kRz68Iej4ebm",
        "outputId": "d09a3de7-415c-45b5-850a-2e5da0ad35ba"
      },
      "source": [
        "index_global =pd.read_csv('/content/gdrive/MyDrive/Colab Notebooks/Food_Systems_ChallengeHub/ChallengeHub_Data/1_Food System Sustainability Index/Global_Sustainable_Food_Index - Sheet1.csv')\n",
        "index_global.head(5)"
      ],
      "execution_count": 20,
      "outputs": [
        {
          "output_type": "execute_result",
          "data": {
            "text/html": [
              "<div>\n",
              "<style scoped>\n",
              "    .dataframe tbody tr th:only-of-type {\n",
              "        vertical-align: middle;\n",
              "    }\n",
              "\n",
              "    .dataframe tbody tr th {\n",
              "        vertical-align: top;\n",
              "    }\n",
              "\n",
              "    .dataframe thead th {\n",
              "        text-align: right;\n",
              "    }\n",
              "</style>\n",
              "<table border=\"1\" class=\"dataframe\">\n",
              "  <thead>\n",
              "    <tr style=\"text-align: right;\">\n",
              "      <th></th>\n",
              "      <th>Country</th>\n",
              "      <th>ISO3</th>\n",
              "      <th>SFS index 2000-2003</th>\n",
              "      <th>SFS index 2004-2006</th>\n",
              "      <th>SFS index 2007-2009</th>\n",
              "      <th>SFS index 2010-2012</th>\n",
              "      <th>SFS index 2013-2016</th>\n",
              "      <th>SFS index 2017</th>\n",
              "    </tr>\n",
              "  </thead>\n",
              "  <tbody>\n",
              "    <tr>\n",
              "      <th>0</th>\n",
              "      <td>Algeria</td>\n",
              "      <td>DZA</td>\n",
              "      <td>0.1633</td>\n",
              "      <td>0.1719</td>\n",
              "      <td>0.2140</td>\n",
              "      <td>0.2903</td>\n",
              "      <td>0.3123</td>\n",
              "      <td>0.3097</td>\n",
              "    </tr>\n",
              "    <tr>\n",
              "      <th>1</th>\n",
              "      <td>Argentina</td>\n",
              "      <td>ARG</td>\n",
              "      <td>0.5416</td>\n",
              "      <td>0.5508</td>\n",
              "      <td>0.5697</td>\n",
              "      <td>0.5748</td>\n",
              "      <td>0.5728</td>\n",
              "      <td>0.5700</td>\n",
              "    </tr>\n",
              "    <tr>\n",
              "      <th>2</th>\n",
              "      <td>Australia</td>\n",
              "      <td>AUS</td>\n",
              "      <td>0.6761</td>\n",
              "      <td>0.6739</td>\n",
              "      <td>0.6822</td>\n",
              "      <td>0.7026</td>\n",
              "      <td>0.6906</td>\n",
              "      <td>0.6887</td>\n",
              "    </tr>\n",
              "    <tr>\n",
              "      <th>3</th>\n",
              "      <td>Austria</td>\n",
              "      <td>AUT</td>\n",
              "      <td>0.6660</td>\n",
              "      <td>0.6604</td>\n",
              "      <td>0.6865</td>\n",
              "      <td>0.7061</td>\n",
              "      <td>0.6982</td>\n",
              "      <td>0.6931</td>\n",
              "    </tr>\n",
              "    <tr>\n",
              "      <th>4</th>\n",
              "      <td>Azerbaijan</td>\n",
              "      <td>AZE</td>\n",
              "      <td>0.5005</td>\n",
              "      <td>0.4922</td>\n",
              "      <td>0.5089</td>\n",
              "      <td>0.5161</td>\n",
              "      <td>0.5125</td>\n",
              "      <td>0.5060</td>\n",
              "    </tr>\n",
              "  </tbody>\n",
              "</table>\n",
              "</div>"
            ],
            "text/plain": [
              "      Country ISO3  ...  SFS index 2013-2016  SFS index 2017\n",
              "0     Algeria  DZA  ...               0.3123          0.3097\n",
              "1   Argentina  ARG  ...               0.5728          0.5700\n",
              "2   Australia  AUS  ...               0.6906          0.6887\n",
              "3     Austria  AUT  ...               0.6982          0.6931\n",
              "4  Azerbaijan  AZE  ...               0.5125          0.5060\n",
              "\n",
              "[5 rows x 8 columns]"
            ]
          },
          "metadata": {
            "tags": []
          },
          "execution_count": 20
        }
      ]
    },
    {
      "cell_type": "code",
      "metadata": {
        "colab": {
          "base_uri": "https://localhost:8080/"
        },
        "id": "CCgQ7F4tk8u5",
        "outputId": "6ea8dfb4-54d6-40fd-ca8c-948c15c4be0d"
      },
      "source": [
        "index_global.info()"
      ],
      "execution_count": 21,
      "outputs": [
        {
          "output_type": "stream",
          "text": [
            "<class 'pandas.core.frame.DataFrame'>\n",
            "RangeIndex: 97 entries, 0 to 96\n",
            "Data columns (total 8 columns):\n",
            " #   Column               Non-Null Count  Dtype  \n",
            "---  ------               --------------  -----  \n",
            " 0   Country              97 non-null     object \n",
            " 1   ISO3                 97 non-null     object \n",
            " 2   SFS index 2000-2003  91 non-null     float64\n",
            " 3   SFS index 2004-2006  94 non-null     float64\n",
            " 4   SFS index 2007-2009  96 non-null     float64\n",
            " 5   SFS index 2010-2012  97 non-null     float64\n",
            " 6   SFS index 2013-2016  95 non-null     float64\n",
            " 7   SFS index 2017       97 non-null     float64\n",
            "dtypes: float64(6), object(2)\n",
            "memory usage: 6.2+ KB\n"
          ],
          "name": "stdout"
        }
      ]
    },
    {
      "cell_type": "markdown",
      "metadata": {
        "id": "Vl3Q9sydW9xi"
      },
      "source": [
        "### Dataframe of Coordinates Countries"
      ]
    },
    {
      "cell_type": "code",
      "metadata": {
        "id": "ifRCyKYMWiP3"
      },
      "source": [
        "# load the countries coordinates from Google Drive\n",
        "countries =pd.read_csv('/content/gdrive/MyDrive/Colab Notebooks/Food_Systems_ChallengeHub/ChallengeHub_Data/Countries/Countries & Territories Taxonomy MVP - C&T Taxonomy with HXL Tags.csv')\n"
      ],
      "execution_count": 22,
      "outputs": []
    },
    {
      "cell_type": "code",
      "metadata": {
        "id": "ACQqlglJbgoI"
      },
      "source": [
        "countries.rename(columns = {'ISO 3166-1 Alpha 3-Codes':'ISO3'}, inplace = True)\n",
        "countries.rename(columns = {'English Short':'Country'}, inplace = True)"
      ],
      "execution_count": 23,
      "outputs": []
    },
    {
      "cell_type": "code",
      "metadata": {
        "id": "JFnkO3ZjObgZ"
      },
      "source": [
        "countries_coordinates = countries.drop(['ID', 'HRinfo ID', 'RW ID', 'm49 numerical code', 'FTS API ID',\n",
        "       'Appears in UNTERM list', 'Appears in DGACM list',\n",
        "       'ISO 3166-1 Alpha 2-Codes',\n",
        "       'x Alpha2 codes', 'x Alpha3 codes', 'Preferred Term', 'm49 Alt Term',\n",
        "       'ISO Alt Term', 'UNTERM Alt Term', 'FTS Alt Term', 'HRinfo Alt Term',\n",
        "       'RW Short Name', 'RW API Alt Term', 'French Short',\n",
        "       'Spanish Short', 'Russian Short', 'Chinese Short', 'Arabic Short',\n",
        "       'Admin Level', 'Intermediate Region Code',\n",
        "       'Intermediate Region Name', 'Regex', 'Concatenation'], axis= 1)"
      ],
      "execution_count": 24,
      "outputs": []
    },
    {
      "cell_type": "code",
      "metadata": {
        "id": "SEHrpKhPOd37"
      },
      "source": [
        "countries_coordinates = countries_coordinates.drop(0, axis=0)"
      ],
      "execution_count": 25,
      "outputs": []
    },
    {
      "cell_type": "code",
      "metadata": {
        "colab": {
          "base_uri": "https://localhost:8080/",
          "height": 112
        },
        "id": "x_Qa8fasfyrs",
        "outputId": "8e5d528b-0b6f-4021-a06f-a43b60d952bf"
      },
      "source": [
        "countries_coordinates.head(2)"
      ],
      "execution_count": 26,
      "outputs": [
        {
          "output_type": "execute_result",
          "data": {
            "text/html": [
              "<div>\n",
              "<style scoped>\n",
              "    .dataframe tbody tr th:only-of-type {\n",
              "        vertical-align: middle;\n",
              "    }\n",
              "\n",
              "    .dataframe tbody tr th {\n",
              "        vertical-align: top;\n",
              "    }\n",
              "\n",
              "    .dataframe thead th {\n",
              "        text-align: right;\n",
              "    }\n",
              "</style>\n",
              "<table border=\"1\" class=\"dataframe\">\n",
              "  <thead>\n",
              "    <tr style=\"text-align: right;\">\n",
              "      <th></th>\n",
              "      <th>ISO3</th>\n",
              "      <th>Country</th>\n",
              "      <th>Latitude</th>\n",
              "      <th>Longitude</th>\n",
              "      <th>Region Code</th>\n",
              "      <th>Region Name</th>\n",
              "      <th>Sub-region Code</th>\n",
              "      <th>Sub-region Name</th>\n",
              "    </tr>\n",
              "  </thead>\n",
              "  <tbody>\n",
              "    <tr>\n",
              "      <th>1</th>\n",
              "      <td>AFG</td>\n",
              "      <td>Afghanistan</td>\n",
              "      <td>33.83147477</td>\n",
              "      <td>66.02621828</td>\n",
              "      <td>142</td>\n",
              "      <td>Asia</td>\n",
              "      <td>34</td>\n",
              "      <td>Southern Asia</td>\n",
              "    </tr>\n",
              "    <tr>\n",
              "      <th>2</th>\n",
              "      <td>ALA</td>\n",
              "      <td>Aland Islands</td>\n",
              "      <td>NaN</td>\n",
              "      <td>NaN</td>\n",
              "      <td>150</td>\n",
              "      <td>Europe</td>\n",
              "      <td>154</td>\n",
              "      <td>Northern Europe</td>\n",
              "    </tr>\n",
              "  </tbody>\n",
              "</table>\n",
              "</div>"
            ],
            "text/plain": [
              "  ISO3        Country     Latitude  ... Region Name Sub-region Code  Sub-region Name\n",
              "1  AFG    Afghanistan  33.83147477  ...        Asia              34    Southern Asia\n",
              "2  ALA  Aland Islands          NaN  ...      Europe             154  Northern Europe\n",
              "\n",
              "[2 rows x 8 columns]"
            ]
          },
          "metadata": {
            "tags": []
          },
          "execution_count": 26
        }
      ]
    },
    {
      "cell_type": "markdown",
      "metadata": {
        "id": "VyaFyoPPOowM"
      },
      "source": [
        "## What countries and regions are covering BCFN index? "
      ]
    },
    {
      "cell_type": "code",
      "metadata": {
        "colab": {
          "base_uri": "https://localhost:8080/"
        },
        "id": "4uXlepchYiEy",
        "outputId": "a388ad17-90c3-498a-e36a-804a6ee16d55"
      },
      "source": [
        "index_BCFN.columns"
      ],
      "execution_count": 27,
      "outputs": [
        {
          "output_type": "execute_result",
          "data": {
            "text/plain": [
              "Index(['No ', 'Country', 'Index', 'food_loss_waste', 'sustainable_ag',\n",
              "       'nutrition_challenge'],\n",
              "      dtype='object')"
            ]
          },
          "metadata": {
            "tags": []
          },
          "execution_count": 27
        }
      ]
    },
    {
      "cell_type": "code",
      "metadata": {
        "id": "wJnI8VjpNA-c"
      },
      "source": [
        "# Cross table BCFN index with Countries to obtain the regions and subregions\n",
        "countries_BCFN = index_BCFN.merge(countries_coordinates, on = \"Country\", how = \"inner\" )"
      ],
      "execution_count": 147,
      "outputs": []
    },
    {
      "cell_type": "markdown",
      "metadata": {
        "id": "-VodwMcSJWwZ"
      },
      "source": [
        "### Dataframe final BCFN index "
      ]
    },
    {
      "cell_type": "code",
      "metadata": {
        "colab": {
          "base_uri": "https://localhost:8080/",
          "height": 201
        },
        "id": "MbNUz9zwInWX",
        "outputId": "608b5c04-2c56-4bf3-e8ef-b1dcd6f6177b"
      },
      "source": [
        "#Dataframe final BCFN index with coorindates, region and name of the country\n",
        "country_BCFNindex = countries_BCFN.copy()\n",
        "country_BCFNindex.head(2)"
      ],
      "execution_count": 149,
      "outputs": [
        {
          "output_type": "execute_result",
          "data": {
            "text/html": [
              "<div>\n",
              "<style scoped>\n",
              "    .dataframe tbody tr th:only-of-type {\n",
              "        vertical-align: middle;\n",
              "    }\n",
              "\n",
              "    .dataframe tbody tr th {\n",
              "        vertical-align: top;\n",
              "    }\n",
              "\n",
              "    .dataframe thead th {\n",
              "        text-align: right;\n",
              "    }\n",
              "</style>\n",
              "<table border=\"1\" class=\"dataframe\">\n",
              "  <thead>\n",
              "    <tr style=\"text-align: right;\">\n",
              "      <th></th>\n",
              "      <th>No</th>\n",
              "      <th>Country</th>\n",
              "      <th>Index</th>\n",
              "      <th>food_loss_waste</th>\n",
              "      <th>sustainable_ag</th>\n",
              "      <th>nutrition_challenge</th>\n",
              "      <th>ISO3</th>\n",
              "      <th>Latitude</th>\n",
              "      <th>Longitude</th>\n",
              "      <th>Region Code</th>\n",
              "      <th>Region Name</th>\n",
              "      <th>Sub-region Code</th>\n",
              "      <th>Sub-region Name</th>\n",
              "    </tr>\n",
              "  </thead>\n",
              "  <tbody>\n",
              "    <tr>\n",
              "      <th>0</th>\n",
              "      <td>1</td>\n",
              "      <td>France</td>\n",
              "      <td>76.1</td>\n",
              "      <td>85.8</td>\n",
              "      <td>71.0</td>\n",
              "      <td>71.4</td>\n",
              "      <td>FRA</td>\n",
              "      <td>46.6984015</td>\n",
              "      <td>2.350055968</td>\n",
              "      <td>150</td>\n",
              "      <td>Europe</td>\n",
              "      <td>155</td>\n",
              "      <td>Western Europe</td>\n",
              "    </tr>\n",
              "    <tr>\n",
              "      <th>1</th>\n",
              "      <td>2</td>\n",
              "      <td>Netherlands</td>\n",
              "      <td>75.6</td>\n",
              "      <td>80.7</td>\n",
              "      <td>77.1</td>\n",
              "      <td>69.0</td>\n",
              "      <td>NLD</td>\n",
              "      <td>52.26998137</td>\n",
              "      <td>5.675062933</td>\n",
              "      <td>150</td>\n",
              "      <td>Europe</td>\n",
              "      <td>155</td>\n",
              "      <td>Western Europe</td>\n",
              "    </tr>\n",
              "  </tbody>\n",
              "</table>\n",
              "</div>"
            ],
            "text/plain": [
              "   No       Country  Index  ...  Region Name  Sub-region Code  Sub-region Name\n",
              "0    1       France   76.1  ...       Europe              155   Western Europe\n",
              "1    2  Netherlands   75.6  ...       Europe              155   Western Europe\n",
              "\n",
              "[2 rows x 13 columns]"
            ]
          },
          "metadata": {
            "tags": []
          },
          "execution_count": 149
        }
      ]
    },
    {
      "cell_type": "code",
      "metadata": {
        "colab": {
          "base_uri": "https://localhost:8080/"
        },
        "id": "gyFgmGl_Lnng",
        "outputId": "ee27901b-a5ed-458d-9324-67b2236ad699"
      },
      "source": [
        "country_BCFNindex.isnull().any()"
      ],
      "execution_count": 157,
      "outputs": [
        {
          "output_type": "execute_result",
          "data": {
            "text/plain": [
              "No                     False\n",
              "Country                False\n",
              "Index                  False\n",
              "food_loss_waste        False\n",
              "sustainable_ag         False\n",
              "nutrition_challenge    False\n",
              "ISO3                   False\n",
              "Latitude               False\n",
              "Longitude              False\n",
              "Region Code            False\n",
              "Region Name            False\n",
              "Sub-region Code        False\n",
              "Sub-region Name        False\n",
              "dtype: bool"
            ]
          },
          "metadata": {
            "tags": []
          },
          "execution_count": 157
        }
      ]
    },
    {
      "cell_type": "markdown",
      "metadata": {
        "id": "RX9lKbuMKoSM"
      },
      "source": [
        "### Groupby Regions and Subregions"
      ]
    },
    {
      "cell_type": "code",
      "metadata": {
        "colab": {
          "base_uri": "https://localhost:8080/"
        },
        "id": "DHCFkG4RSrt_",
        "outputId": "e34de340-edd8-41c0-8f48-95f8b55323e7"
      },
      "source": [
        "total_countries_BCFN = countries_BCFN['Country'].count()\n",
        "print( \"BCFN Index cover only\",  total_countries_BCFN, \"countries\")"
      ],
      "execution_count": 29,
      "outputs": [
        {
          "output_type": "stream",
          "text": [
            "BCFN Index cover only 66 countries\n"
          ],
          "name": "stdout"
        }
      ]
    },
    {
      "cell_type": "code",
      "metadata": {
        "colab": {
          "base_uri": "https://localhost:8080/",
          "height": 269
        },
        "id": "0B2UjQ9VTID7",
        "outputId": "7a4fe533-0aff-48dc-d7cc-57ebb9b7a83f"
      },
      "source": [
        "#Regions \n",
        "regions_BCFN = countries_BCFN.groupby([\"Region Name\"]).agg({'Index': ['count', 'mean'], \n",
        "                                                            'food_loss_waste': [\"mean\"],\n",
        "                                                            'sustainable_ag':[\"mean\"],\n",
        "                                                            'nutrition_challenge':[\"mean\"]}).round(2)\n",
        "regions_BCFN"
      ],
      "execution_count": 30,
      "outputs": [
        {
          "output_type": "execute_result",
          "data": {
            "text/html": [
              "<div>\n",
              "<style scoped>\n",
              "    .dataframe tbody tr th:only-of-type {\n",
              "        vertical-align: middle;\n",
              "    }\n",
              "\n",
              "    .dataframe tbody tr th {\n",
              "        vertical-align: top;\n",
              "    }\n",
              "\n",
              "    .dataframe thead tr th {\n",
              "        text-align: left;\n",
              "    }\n",
              "\n",
              "    .dataframe thead tr:last-of-type th {\n",
              "        text-align: right;\n",
              "    }\n",
              "</style>\n",
              "<table border=\"1\" class=\"dataframe\">\n",
              "  <thead>\n",
              "    <tr>\n",
              "      <th></th>\n",
              "      <th colspan=\"2\" halign=\"left\">Index</th>\n",
              "      <th>food_loss_waste</th>\n",
              "      <th>sustainable_ag</th>\n",
              "      <th>nutrition_challenge</th>\n",
              "    </tr>\n",
              "    <tr>\n",
              "      <th></th>\n",
              "      <th>count</th>\n",
              "      <th>mean</th>\n",
              "      <th>mean</th>\n",
              "      <th>mean</th>\n",
              "      <th>mean</th>\n",
              "    </tr>\n",
              "    <tr>\n",
              "      <th>Region Name</th>\n",
              "      <th></th>\n",
              "      <th></th>\n",
              "      <th></th>\n",
              "      <th></th>\n",
              "      <th></th>\n",
              "    </tr>\n",
              "  </thead>\n",
              "  <tbody>\n",
              "    <tr>\n",
              "      <th>Africa</th>\n",
              "      <td>20</td>\n",
              "      <td>64.10</td>\n",
              "      <td>69.60</td>\n",
              "      <td>67.16</td>\n",
              "      <td>55.55</td>\n",
              "    </tr>\n",
              "    <tr>\n",
              "      <th>Americas</th>\n",
              "      <td>6</td>\n",
              "      <td>69.62</td>\n",
              "      <td>75.27</td>\n",
              "      <td>69.77</td>\n",
              "      <td>63.83</td>\n",
              "    </tr>\n",
              "    <tr>\n",
              "      <th>Asia</th>\n",
              "      <td>11</td>\n",
              "      <td>64.72</td>\n",
              "      <td>65.05</td>\n",
              "      <td>66.01</td>\n",
              "      <td>63.06</td>\n",
              "    </tr>\n",
              "    <tr>\n",
              "      <th>Europe</th>\n",
              "      <td>28</td>\n",
              "      <td>68.30</td>\n",
              "      <td>69.36</td>\n",
              "      <td>68.47</td>\n",
              "      <td>67.04</td>\n",
              "    </tr>\n",
              "    <tr>\n",
              "      <th>Oceania</th>\n",
              "      <td>1</td>\n",
              "      <td>71.80</td>\n",
              "      <td>77.50</td>\n",
              "      <td>73.40</td>\n",
              "      <td>64.60</td>\n",
              "    </tr>\n",
              "  </tbody>\n",
              "</table>\n",
              "</div>"
            ],
            "text/plain": [
              "            Index        food_loss_waste sustainable_ag nutrition_challenge\n",
              "            count   mean            mean           mean                mean\n",
              "Region Name                                                                \n",
              "Africa         20  64.10           69.60          67.16               55.55\n",
              "Americas        6  69.62           75.27          69.77               63.83\n",
              "Asia           11  64.72           65.05          66.01               63.06\n",
              "Europe         28  68.30           69.36          68.47               67.04\n",
              "Oceania         1  71.80           77.50          73.40               64.60"
            ]
          },
          "metadata": {
            "tags": []
          },
          "execution_count": 30
        }
      ]
    },
    {
      "cell_type": "code",
      "metadata": {
        "colab": {
          "base_uri": "https://localhost:8080/",
          "height": 520
        },
        "id": "6sGBwbAubzOs",
        "outputId": "1e5eb439-2501-4420-b686-7ee1fc8977d4"
      },
      "source": [
        "#Regions \n",
        "subregions_BCFN = countries_BCFN.groupby([\"Region Name\", 'Sub-region Name']).agg({'Index': ['count', 'mean'], \n",
        "                                                            'food_loss_waste': [\"mean\"],\n",
        "                                                            'sustainable_ag':[\"mean\"],\n",
        "                                                            'nutrition_challenge':[\"mean\"]}).round(2)\n",
        "subregions_BCFN"
      ],
      "execution_count": 31,
      "outputs": [
        {
          "output_type": "execute_result",
          "data": {
            "text/html": [
              "<div>\n",
              "<style scoped>\n",
              "    .dataframe tbody tr th:only-of-type {\n",
              "        vertical-align: middle;\n",
              "    }\n",
              "\n",
              "    .dataframe tbody tr th {\n",
              "        vertical-align: top;\n",
              "    }\n",
              "\n",
              "    .dataframe thead tr th {\n",
              "        text-align: left;\n",
              "    }\n",
              "\n",
              "    .dataframe thead tr:last-of-type th {\n",
              "        text-align: right;\n",
              "    }\n",
              "</style>\n",
              "<table border=\"1\" class=\"dataframe\">\n",
              "  <thead>\n",
              "    <tr>\n",
              "      <th></th>\n",
              "      <th></th>\n",
              "      <th colspan=\"2\" halign=\"left\">Index</th>\n",
              "      <th>food_loss_waste</th>\n",
              "      <th>sustainable_ag</th>\n",
              "      <th>nutrition_challenge</th>\n",
              "    </tr>\n",
              "    <tr>\n",
              "      <th></th>\n",
              "      <th></th>\n",
              "      <th>count</th>\n",
              "      <th>mean</th>\n",
              "      <th>mean</th>\n",
              "      <th>mean</th>\n",
              "      <th>mean</th>\n",
              "    </tr>\n",
              "    <tr>\n",
              "      <th>Region Name</th>\n",
              "      <th>Sub-region Name</th>\n",
              "      <th></th>\n",
              "      <th></th>\n",
              "      <th></th>\n",
              "      <th></th>\n",
              "      <th></th>\n",
              "    </tr>\n",
              "  </thead>\n",
              "  <tbody>\n",
              "    <tr>\n",
              "      <th rowspan=\"2\" valign=\"top\">Africa</th>\n",
              "      <th>Northern Africa</th>\n",
              "      <td>4</td>\n",
              "      <td>62.42</td>\n",
              "      <td>63.55</td>\n",
              "      <td>66.45</td>\n",
              "      <td>57.30</td>\n",
              "    </tr>\n",
              "    <tr>\n",
              "      <th>Sub-Saharan Africa</th>\n",
              "      <td>16</td>\n",
              "      <td>64.53</td>\n",
              "      <td>71.11</td>\n",
              "      <td>67.33</td>\n",
              "      <td>55.11</td>\n",
              "    </tr>\n",
              "    <tr>\n",
              "      <th rowspan=\"2\" valign=\"top\">Americas</th>\n",
              "      <th>Latin America and the Caribbean</th>\n",
              "      <td>4</td>\n",
              "      <td>68.45</td>\n",
              "      <td>72.95</td>\n",
              "      <td>69.25</td>\n",
              "      <td>63.15</td>\n",
              "    </tr>\n",
              "    <tr>\n",
              "      <th>Northern America</th>\n",
              "      <td>2</td>\n",
              "      <td>71.95</td>\n",
              "      <td>79.90</td>\n",
              "      <td>70.80</td>\n",
              "      <td>65.20</td>\n",
              "    </tr>\n",
              "    <tr>\n",
              "      <th rowspan=\"4\" valign=\"top\">Asia</th>\n",
              "      <th>Eastern Asia</th>\n",
              "      <td>3</td>\n",
              "      <td>71.50</td>\n",
              "      <td>72.17</td>\n",
              "      <td>69.17</td>\n",
              "      <td>73.20</td>\n",
              "    </tr>\n",
              "    <tr>\n",
              "      <th>South-eastern Asia</th>\n",
              "      <td>1</td>\n",
              "      <td>59.10</td>\n",
              "      <td>61.40</td>\n",
              "      <td>61.10</td>\n",
              "      <td>54.90</td>\n",
              "    </tr>\n",
              "    <tr>\n",
              "      <th>Southern Asia</th>\n",
              "      <td>1</td>\n",
              "      <td>66.40</td>\n",
              "      <td>81.10</td>\n",
              "      <td>65.50</td>\n",
              "      <td>52.50</td>\n",
              "    </tr>\n",
              "    <tr>\n",
              "      <th>Western Asia</th>\n",
              "      <td>6</td>\n",
              "      <td>61.98</td>\n",
              "      <td>59.42</td>\n",
              "      <td>65.33</td>\n",
              "      <td>61.12</td>\n",
              "    </tr>\n",
              "    <tr>\n",
              "      <th rowspan=\"4\" valign=\"top\">Europe</th>\n",
              "      <th>Eastern Europe</th>\n",
              "      <td>7</td>\n",
              "      <td>64.89</td>\n",
              "      <td>66.93</td>\n",
              "      <td>65.86</td>\n",
              "      <td>61.87</td>\n",
              "    </tr>\n",
              "    <tr>\n",
              "      <th>Northern Europe</th>\n",
              "      <td>8</td>\n",
              "      <td>70.00</td>\n",
              "      <td>71.89</td>\n",
              "      <td>68.80</td>\n",
              "      <td>69.26</td>\n",
              "    </tr>\n",
              "    <tr>\n",
              "      <th>Southern Europe</th>\n",
              "      <td>7</td>\n",
              "      <td>66.84</td>\n",
              "      <td>65.03</td>\n",
              "      <td>67.39</td>\n",
              "      <td>68.13</td>\n",
              "    </tr>\n",
              "    <tr>\n",
              "      <th>Western Europe</th>\n",
              "      <td>6</td>\n",
              "      <td>71.72</td>\n",
              "      <td>73.90</td>\n",
              "      <td>72.37</td>\n",
              "      <td>68.82</td>\n",
              "    </tr>\n",
              "    <tr>\n",
              "      <th>Oceania</th>\n",
              "      <th>Australia and New Zealand</th>\n",
              "      <td>1</td>\n",
              "      <td>71.80</td>\n",
              "      <td>77.50</td>\n",
              "      <td>73.40</td>\n",
              "      <td>64.60</td>\n",
              "    </tr>\n",
              "  </tbody>\n",
              "</table>\n",
              "</div>"
            ],
            "text/plain": [
              "                                            Index  ... nutrition_challenge\n",
              "                                            count  ...                mean\n",
              "Region Name Sub-region Name                        ...                    \n",
              "Africa      Northern Africa                     4  ...               57.30\n",
              "            Sub-Saharan Africa                 16  ...               55.11\n",
              "Americas    Latin America and the Caribbean     4  ...               63.15\n",
              "            Northern America                    2  ...               65.20\n",
              "Asia        Eastern Asia                        3  ...               73.20\n",
              "            South-eastern Asia                  1  ...               54.90\n",
              "            Southern Asia                       1  ...               52.50\n",
              "            Western Asia                        6  ...               61.12\n",
              "Europe      Eastern Europe                      7  ...               61.87\n",
              "            Northern Europe                     8  ...               69.26\n",
              "            Southern Europe                     7  ...               68.13\n",
              "            Western Europe                      6  ...               68.82\n",
              "Oceania     Australia and New Zealand           1  ...               64.60\n",
              "\n",
              "[13 rows x 5 columns]"
            ]
          },
          "metadata": {
            "tags": []
          },
          "execution_count": 31
        }
      ]
    },
    {
      "cell_type": "code",
      "metadata": {
        "id": "0G9OEZTBWdRh"
      },
      "source": [
        ""
      ],
      "execution_count": 31,
      "outputs": []
    },
    {
      "cell_type": "markdown",
      "metadata": {
        "id": "RgExeKudfZlw"
      },
      "source": [
        "## What countries are in the Global Index?"
      ]
    },
    {
      "cell_type": "code",
      "metadata": {
        "colab": {
          "base_uri": "https://localhost:8080/"
        },
        "id": "mG3rkM5IYkPx",
        "outputId": "052ee064-9c8d-42e0-fe8f-6fb05affb813"
      },
      "source": [
        "index_global.columns"
      ],
      "execution_count": 105,
      "outputs": [
        {
          "output_type": "execute_result",
          "data": {
            "text/plain": [
              "Index(['Country', 'ISO3', 'SFS index 2000-2003', 'SFS index 2004-2006',\n",
              "       'SFS index 2007-2009', 'SFS index 2010-2012', 'SFS index 2013-2016',\n",
              "       'SFS index 2017'],\n",
              "      dtype='object')"
            ]
          },
          "metadata": {
            "tags": []
          },
          "execution_count": 105
        }
      ]
    },
    {
      "cell_type": "code",
      "metadata": {
        "colab": {
          "base_uri": "https://localhost:8080/"
        },
        "id": "uFUO3UB4sS1h",
        "outputId": "39e4318a-a53d-4520-a165-0b42097ca5c9"
      },
      "source": [
        "#how many names are not correct ?\n",
        "comparison = index_global['Country'].isin(countries_coordinates['Country']).value_counts()\n",
        "comparison"
      ],
      "execution_count": 106,
      "outputs": [
        {
          "output_type": "execute_result",
          "data": {
            "text/plain": [
              "True     94\n",
              "False     3\n",
              "Name: Country, dtype: int64"
            ]
          },
          "metadata": {
            "tags": []
          },
          "execution_count": 106
        }
      ]
    },
    {
      "cell_type": "code",
      "metadata": {
        "colab": {
          "base_uri": "https://localhost:8080/"
        },
        "id": "tw3DGiE_hRnG",
        "outputId": "4b181351-0250-482d-938d-585c0426b51b"
      },
      "source": [
        "index_global.shape"
      ],
      "execution_count": 107,
      "outputs": [
        {
          "output_type": "execute_result",
          "data": {
            "text/plain": [
              "(97, 8)"
            ]
          },
          "metadata": {
            "tags": []
          },
          "execution_count": 107
        }
      ]
    },
    {
      "cell_type": "code",
      "metadata": {
        "colab": {
          "base_uri": "https://localhost:8080/",
          "height": 236
        },
        "id": "uWoWkYz_YrZt",
        "outputId": "dd49b309-8a18-4d29-e2fb-af788c347584"
      },
      "source": [
        "# Cross table index_global with Countries to obtain the regions and subregions and the Lat and Long\n",
        "countries_globalindex = index_global.merge(countries_coordinates, on = \"ISO3\", how = \"inner\" )\n",
        "countries_globalindex .reset_index()\n",
        "countries_globalindex.head(2)"
      ],
      "execution_count": 108,
      "outputs": [
        {
          "output_type": "execute_result",
          "data": {
            "text/html": [
              "<div>\n",
              "<style scoped>\n",
              "    .dataframe tbody tr th:only-of-type {\n",
              "        vertical-align: middle;\n",
              "    }\n",
              "\n",
              "    .dataframe tbody tr th {\n",
              "        vertical-align: top;\n",
              "    }\n",
              "\n",
              "    .dataframe thead th {\n",
              "        text-align: right;\n",
              "    }\n",
              "</style>\n",
              "<table border=\"1\" class=\"dataframe\">\n",
              "  <thead>\n",
              "    <tr style=\"text-align: right;\">\n",
              "      <th></th>\n",
              "      <th>Country_x</th>\n",
              "      <th>ISO3</th>\n",
              "      <th>SFS index 2000-2003</th>\n",
              "      <th>SFS index 2004-2006</th>\n",
              "      <th>SFS index 2007-2009</th>\n",
              "      <th>SFS index 2010-2012</th>\n",
              "      <th>SFS index 2013-2016</th>\n",
              "      <th>SFS index 2017</th>\n",
              "      <th>Country_y</th>\n",
              "      <th>Latitude</th>\n",
              "      <th>Longitude</th>\n",
              "      <th>Region Code</th>\n",
              "      <th>Region Name</th>\n",
              "      <th>Sub-region Code</th>\n",
              "      <th>Sub-region Name</th>\n",
              "    </tr>\n",
              "  </thead>\n",
              "  <tbody>\n",
              "    <tr>\n",
              "      <th>0</th>\n",
              "      <td>Algeria</td>\n",
              "      <td>DZA</td>\n",
              "      <td>0.1633</td>\n",
              "      <td>0.1719</td>\n",
              "      <td>0.2140</td>\n",
              "      <td>0.2903</td>\n",
              "      <td>0.3123</td>\n",
              "      <td>0.3097</td>\n",
              "      <td>Algeria</td>\n",
              "      <td>28.16474462</td>\n",
              "      <td>2.63351219</td>\n",
              "      <td>2</td>\n",
              "      <td>Africa</td>\n",
              "      <td>15</td>\n",
              "      <td>Northern Africa</td>\n",
              "    </tr>\n",
              "    <tr>\n",
              "      <th>1</th>\n",
              "      <td>Argentina</td>\n",
              "      <td>ARG</td>\n",
              "      <td>0.5416</td>\n",
              "      <td>0.5508</td>\n",
              "      <td>0.5697</td>\n",
              "      <td>0.5748</td>\n",
              "      <td>0.5728</td>\n",
              "      <td>0.5700</td>\n",
              "      <td>Argentina</td>\n",
              "      <td>-34.98567234</td>\n",
              "      <td>-65.12225892</td>\n",
              "      <td>19</td>\n",
              "      <td>Americas</td>\n",
              "      <td>419</td>\n",
              "      <td>Latin America and the Caribbean</td>\n",
              "    </tr>\n",
              "  </tbody>\n",
              "</table>\n",
              "</div>"
            ],
            "text/plain": [
              "   Country_x ISO3  ...  Sub-region Code                  Sub-region Name\n",
              "0    Algeria  DZA  ...               15                  Northern Africa\n",
              "1  Argentina  ARG  ...              419  Latin America and the Caribbean\n",
              "\n",
              "[2 rows x 15 columns]"
            ]
          },
          "metadata": {
            "tags": []
          },
          "execution_count": 108
        }
      ]
    },
    {
      "cell_type": "code",
      "metadata": {
        "colab": {
          "base_uri": "https://localhost:8080/"
        },
        "id": "tA3Yfxx4ha7Q",
        "outputId": "aa76ac25-6237-4219-e818-273a7a702591"
      },
      "source": [
        "countries_globalindex.shape"
      ],
      "execution_count": 109,
      "outputs": [
        {
          "output_type": "execute_result",
          "data": {
            "text/plain": [
              "(97, 15)"
            ]
          },
          "metadata": {
            "tags": []
          },
          "execution_count": 109
        }
      ]
    },
    {
      "cell_type": "code",
      "metadata": {
        "id": "sWvBM_3PABlA"
      },
      "source": [
        "#adding a columns \"compare_countries\" to know the match between 2 columns (name of the country)\n",
        "countries_globalindex['compare_countries']= np.where(countries_globalindex['Country_x'] == countries_globalindex['Country_y'],'True', 'False') \n"
      ],
      "execution_count": 150,
      "outputs": []
    },
    {
      "cell_type": "code",
      "metadata": {
        "colab": {
          "base_uri": "https://localhost:8080/",
          "height": 285
        },
        "id": "XwSn2NA5BtGN",
        "outputId": "5fe1ea94-4e85-4a49-b78b-280f7dd9b273"
      },
      "source": [
        "#checking what are the countries that don't match\n",
        "uncommon_countries = countries_globalindex[countries_globalindex['compare_countries'] == 'False']\n",
        "uncommon_countries"
      ],
      "execution_count": 93,
      "outputs": [
        {
          "output_type": "execute_result",
          "data": {
            "text/html": [
              "<div>\n",
              "<style scoped>\n",
              "    .dataframe tbody tr th:only-of-type {\n",
              "        vertical-align: middle;\n",
              "    }\n",
              "\n",
              "    .dataframe tbody tr th {\n",
              "        vertical-align: top;\n",
              "    }\n",
              "\n",
              "    .dataframe thead th {\n",
              "        text-align: right;\n",
              "    }\n",
              "</style>\n",
              "<table border=\"1\" class=\"dataframe\">\n",
              "  <thead>\n",
              "    <tr style=\"text-align: right;\">\n",
              "      <th></th>\n",
              "      <th>Country_x</th>\n",
              "      <th>ISO3</th>\n",
              "      <th>SFS index 2000-2003</th>\n",
              "      <th>SFS index 2004-2006</th>\n",
              "      <th>SFS index 2007-2009</th>\n",
              "      <th>SFS index 2010-2012</th>\n",
              "      <th>SFS index 2013-2016</th>\n",
              "      <th>SFS index 2017</th>\n",
              "      <th>Country_y</th>\n",
              "      <th>Latitude</th>\n",
              "      <th>Longitude</th>\n",
              "      <th>Region Code</th>\n",
              "      <th>Region Name</th>\n",
              "      <th>Sub-region Code</th>\n",
              "      <th>Sub-region Name</th>\n",
              "      <th>compare_countries</th>\n",
              "    </tr>\n",
              "  </thead>\n",
              "  <tbody>\n",
              "    <tr>\n",
              "      <th>20</th>\n",
              "      <td>Ivory Coast</td>\n",
              "      <td>CIV</td>\n",
              "      <td>NaN</td>\n",
              "      <td>NaN</td>\n",
              "      <td>0.5083</td>\n",
              "      <td>0.5096</td>\n",
              "      <td>0.5104</td>\n",
              "      <td>0.5041</td>\n",
              "      <td>Cote d'Ivoire</td>\n",
              "      <td>7.630087005</td>\n",
              "      <td>-5.552402136</td>\n",
              "      <td>2</td>\n",
              "      <td>Africa</td>\n",
              "      <td>202</td>\n",
              "      <td>Sub-Saharan Africa</td>\n",
              "      <td>False</td>\n",
              "    </tr>\n",
              "    <tr>\n",
              "      <th>21</th>\n",
              "      <td>Czechia</td>\n",
              "      <td>CZE</td>\n",
              "      <td>0.5762</td>\n",
              "      <td>0.5746</td>\n",
              "      <td>0.5741</td>\n",
              "      <td>0.5918</td>\n",
              "      <td>0.5935</td>\n",
              "      <td>0.5891</td>\n",
              "      <td>Czech Republic</td>\n",
              "      <td>49.74240068</td>\n",
              "      <td>15.34943448</td>\n",
              "      <td>150</td>\n",
              "      <td>Europe</td>\n",
              "      <td>151</td>\n",
              "      <td>Eastern Europe</td>\n",
              "      <td>False</td>\n",
              "    </tr>\n",
              "    <tr>\n",
              "      <th>94</th>\n",
              "      <td>Vietnam</td>\n",
              "      <td>VNM</td>\n",
              "      <td>0.4039</td>\n",
              "      <td>0.4038</td>\n",
              "      <td>0.4250</td>\n",
              "      <td>0.4338</td>\n",
              "      <td>0.4289</td>\n",
              "      <td>0.4277</td>\n",
              "      <td>Viet Nam</td>\n",
              "      <td>16.64893259</td>\n",
              "      <td>106.3103686</td>\n",
              "      <td>142</td>\n",
              "      <td>Asia</td>\n",
              "      <td>35</td>\n",
              "      <td>South-eastern Asia</td>\n",
              "      <td>False</td>\n",
              "    </tr>\n",
              "  </tbody>\n",
              "</table>\n",
              "</div>"
            ],
            "text/plain": [
              "      Country_x ISO3  ...     Sub-region Name  compare_countries\n",
              "20  Ivory Coast  CIV  ...  Sub-Saharan Africa              False\n",
              "21      Czechia  CZE  ...      Eastern Europe              False\n",
              "94      Vietnam  VNM  ...  South-eastern Asia              False\n",
              "\n",
              "[3 rows x 16 columns]"
            ]
          },
          "metadata": {
            "tags": []
          },
          "execution_count": 93
        }
      ]
    },
    {
      "cell_type": "markdown",
      "metadata": {
        "id": "qIsrlQwnCMsA"
      },
      "source": [
        "I decided to let the names of Country_y (data from \"Countries df\"). \n",
        "\n",
        "Explanation: Though the \"Viet Nam\" spelling is used by the UN and the Vietnam government itself.\n",
        "https://politics.stackexchange.com/questions/25642/preferred-or-correct-english-spelling-vietnam-or-viet-nam"
      ]
    },
    {
      "cell_type": "code",
      "metadata": {
        "id": "5EHkCOHCC76h"
      },
      "source": [
        "# drop column \"country_x\" and \"compare_countries\"\n",
        "countries_globalindex1 = countries_globalindex.drop(['Country_x','compare_countries' ],axis=1 )"
      ],
      "execution_count": 141,
      "outputs": []
    },
    {
      "cell_type": "code",
      "metadata": {
        "colab": {
          "base_uri": "https://localhost:8080/"
        },
        "id": "AvoujaygDc-z",
        "outputId": "4a34e542-9ffa-463d-b219-452990839601"
      },
      "source": [
        "countries_globalindex1.columns"
      ],
      "execution_count": 130,
      "outputs": [
        {
          "output_type": "execute_result",
          "data": {
            "text/plain": [
              "Index(['ISO3', 'SFS index 2000-2003', 'SFS index 2004-2006',\n",
              "       'SFS index 2007-2009', 'SFS index 2010-2012', 'SFS index 2013-2016',\n",
              "       'SFS index 2017', 'Country_y', 'Latitude', 'Longitude', 'Region Code',\n",
              "       'Region Name', 'Sub-region Code', 'Sub-region Name'],\n",
              "      dtype='object')"
            ]
          },
          "metadata": {
            "tags": []
          },
          "execution_count": 130
        }
      ]
    },
    {
      "cell_type": "code",
      "metadata": {
        "id": "l43tzMBODgSG"
      },
      "source": [
        "#change the position column \"country_y\"\n",
        "country_globalindex1 = countries_globalindex1[['Country_y', 'ISO3', 'SFS index 2000-2003', 'SFS index 2004-2006',\n",
        "       'SFS index 2007-2009', 'SFS index 2010-2012', 'SFS index 2013-2016',\n",
        "       'SFS index 2017', 'Latitude', 'Longitude', 'Region Code',\n",
        "       'Region Name', 'Sub-region Code', 'Sub-region Name']]\n"
      ],
      "execution_count": 138,
      "outputs": []
    },
    {
      "cell_type": "code",
      "metadata": {
        "id": "S0e0cyfuEUq2"
      },
      "source": [
        "country_globalindex1.rename(columns = {'Country_y':'Country'}, inplace = True)"
      ],
      "execution_count": 151,
      "outputs": []
    },
    {
      "cell_type": "markdown",
      "metadata": {
        "id": "Dm2ELaDRJvgK"
      },
      "source": [
        "### Dataframe final Global FS index"
      ]
    },
    {
      "cell_type": "code",
      "metadata": {
        "colab": {
          "base_uri": "https://localhost:8080/"
        },
        "id": "xb9e_ObdHn8T",
        "outputId": "750bc6a2-cb1d-4c4b-f656-8be10ece4c43"
      },
      "source": [
        "# dataframe Global FSindex with coordinates, ISO,  offical name country and regions\n",
        "country_gindex = country_globalindex1.copy()\n",
        "country_gindex .shape"
      ],
      "execution_count": 140,
      "outputs": [
        {
          "output_type": "execute_result",
          "data": {
            "text/plain": [
              "(97, 14)"
            ]
          },
          "metadata": {
            "tags": []
          },
          "execution_count": 140
        }
      ]
    },
    {
      "cell_type": "markdown",
      "metadata": {
        "id": "HL-GcKG3KF-4"
      },
      "source": [
        "### Groupby Regions and subregions"
      ]
    },
    {
      "cell_type": "code",
      "metadata": {
        "colab": {
          "base_uri": "https://localhost:8080/"
        },
        "id": "GoEZLuWLiFqf",
        "outputId": "8a18567f-693b-4de6-eba5-1be9366918de"
      },
      "source": [
        "total_countries_globalindex = countries_globalindex['Country_x'].count()\n",
        "print( \"Global Food Sustainablle Index cover\",  total_countries_globalindex, \"countries\")"
      ],
      "execution_count": 94,
      "outputs": [
        {
          "output_type": "stream",
          "text": [
            "Global Food Sustainablle Index cover 97 countries\n"
          ],
          "name": "stdout"
        }
      ]
    },
    {
      "cell_type": "code",
      "metadata": {
        "colab": {
          "base_uri": "https://localhost:8080/",
          "height": 269
        },
        "id": "MdXy83V0iVz9",
        "outputId": "659ffb41-2673-4b50-c645-725d1ba7f620"
      },
      "source": [
        "#Regions \n",
        "regions_globali = countries_globalindex.groupby([\"Region Name\"]).agg({'SFS index 2017': ['count', 'mean']}).round(2)\n",
        "regions_globali"
      ],
      "execution_count": 49,
      "outputs": [
        {
          "output_type": "execute_result",
          "data": {
            "text/html": [
              "<div>\n",
              "<style scoped>\n",
              "    .dataframe tbody tr th:only-of-type {\n",
              "        vertical-align: middle;\n",
              "    }\n",
              "\n",
              "    .dataframe tbody tr th {\n",
              "        vertical-align: top;\n",
              "    }\n",
              "\n",
              "    .dataframe thead tr th {\n",
              "        text-align: left;\n",
              "    }\n",
              "\n",
              "    .dataframe thead tr:last-of-type th {\n",
              "        text-align: right;\n",
              "    }\n",
              "</style>\n",
              "<table border=\"1\" class=\"dataframe\">\n",
              "  <thead>\n",
              "    <tr>\n",
              "      <th></th>\n",
              "      <th colspan=\"2\" halign=\"left\">SFS index 2017</th>\n",
              "    </tr>\n",
              "    <tr>\n",
              "      <th></th>\n",
              "      <th>count</th>\n",
              "      <th>mean</th>\n",
              "    </tr>\n",
              "    <tr>\n",
              "      <th>Region Name</th>\n",
              "      <th></th>\n",
              "      <th></th>\n",
              "    </tr>\n",
              "  </thead>\n",
              "  <tbody>\n",
              "    <tr>\n",
              "      <th>Africa</th>\n",
              "      <td>28</td>\n",
              "      <td>0.40</td>\n",
              "    </tr>\n",
              "    <tr>\n",
              "      <th>Americas</th>\n",
              "      <td>20</td>\n",
              "      <td>0.56</td>\n",
              "    </tr>\n",
              "    <tr>\n",
              "      <th>Asia</th>\n",
              "      <td>24</td>\n",
              "      <td>0.44</td>\n",
              "    </tr>\n",
              "    <tr>\n",
              "      <th>Europe</th>\n",
              "      <td>23</td>\n",
              "      <td>0.62</td>\n",
              "    </tr>\n",
              "    <tr>\n",
              "      <th>Oceania</th>\n",
              "      <td>2</td>\n",
              "      <td>0.71</td>\n",
              "    </tr>\n",
              "  </tbody>\n",
              "</table>\n",
              "</div>"
            ],
            "text/plain": [
              "            SFS index 2017      \n",
              "                     count  mean\n",
              "Region Name                     \n",
              "Africa                  28  0.40\n",
              "Americas                20  0.56\n",
              "Asia                    24  0.44\n",
              "Europe                  23  0.62\n",
              "Oceania                  2  0.71"
            ]
          },
          "metadata": {
            "tags": []
          },
          "execution_count": 49
        }
      ]
    },
    {
      "cell_type": "code",
      "metadata": {
        "colab": {
          "base_uri": "https://localhost:8080/",
          "height": 551
        },
        "id": "uXCVRAFCiv2u",
        "outputId": "389637a6-5809-49c8-fe8d-e9e811c97b8f"
      },
      "source": [
        "#Regions \n",
        "subregions_globali = countries_globalindex.groupby([\"Region Name\", 'Sub-region Name']).agg({'SFS index 2017': ['count', 'mean']}).round(2)\n",
        "subregions_globali"
      ],
      "execution_count": 50,
      "outputs": [
        {
          "output_type": "execute_result",
          "data": {
            "text/html": [
              "<div>\n",
              "<style scoped>\n",
              "    .dataframe tbody tr th:only-of-type {\n",
              "        vertical-align: middle;\n",
              "    }\n",
              "\n",
              "    .dataframe tbody tr th {\n",
              "        vertical-align: top;\n",
              "    }\n",
              "\n",
              "    .dataframe thead tr th {\n",
              "        text-align: left;\n",
              "    }\n",
              "\n",
              "    .dataframe thead tr:last-of-type th {\n",
              "        text-align: right;\n",
              "    }\n",
              "</style>\n",
              "<table border=\"1\" class=\"dataframe\">\n",
              "  <thead>\n",
              "    <tr>\n",
              "      <th></th>\n",
              "      <th></th>\n",
              "      <th colspan=\"2\" halign=\"left\">SFS index 2017</th>\n",
              "    </tr>\n",
              "    <tr>\n",
              "      <th></th>\n",
              "      <th></th>\n",
              "      <th>count</th>\n",
              "      <th>mean</th>\n",
              "    </tr>\n",
              "    <tr>\n",
              "      <th>Region Name</th>\n",
              "      <th>Sub-region Name</th>\n",
              "      <th></th>\n",
              "      <th></th>\n",
              "    </tr>\n",
              "  </thead>\n",
              "  <tbody>\n",
              "    <tr>\n",
              "      <th rowspan=\"2\" valign=\"top\">Africa</th>\n",
              "      <th>Northern Africa</th>\n",
              "      <td>5</td>\n",
              "      <td>0.34</td>\n",
              "    </tr>\n",
              "    <tr>\n",
              "      <th>Sub-Saharan Africa</th>\n",
              "      <td>23</td>\n",
              "      <td>0.42</td>\n",
              "    </tr>\n",
              "    <tr>\n",
              "      <th rowspan=\"2\" valign=\"top\">Americas</th>\n",
              "      <th>Latin America and the Caribbean</th>\n",
              "      <td>18</td>\n",
              "      <td>0.54</td>\n",
              "    </tr>\n",
              "    <tr>\n",
              "      <th>Northern America</th>\n",
              "      <td>2</td>\n",
              "      <td>0.71</td>\n",
              "    </tr>\n",
              "    <tr>\n",
              "      <th rowspan=\"5\" valign=\"top\">Asia</th>\n",
              "      <th>Central Asia</th>\n",
              "      <td>2</td>\n",
              "      <td>0.53</td>\n",
              "    </tr>\n",
              "    <tr>\n",
              "      <th>Eastern Asia</th>\n",
              "      <td>2</td>\n",
              "      <td>0.59</td>\n",
              "    </tr>\n",
              "    <tr>\n",
              "      <th>South-eastern Asia</th>\n",
              "      <td>8</td>\n",
              "      <td>0.47</td>\n",
              "    </tr>\n",
              "    <tr>\n",
              "      <th>Southern Asia</th>\n",
              "      <td>5</td>\n",
              "      <td>0.32</td>\n",
              "    </tr>\n",
              "    <tr>\n",
              "      <th>Western Asia</th>\n",
              "      <td>7</td>\n",
              "      <td>0.43</td>\n",
              "    </tr>\n",
              "    <tr>\n",
              "      <th rowspan=\"4\" valign=\"top\">Europe</th>\n",
              "      <th>Eastern Europe</th>\n",
              "      <td>9</td>\n",
              "      <td>0.58</td>\n",
              "    </tr>\n",
              "    <tr>\n",
              "      <th>Northern Europe</th>\n",
              "      <td>5</td>\n",
              "      <td>0.67</td>\n",
              "    </tr>\n",
              "    <tr>\n",
              "      <th>Southern Europe</th>\n",
              "      <td>3</td>\n",
              "      <td>0.60</td>\n",
              "    </tr>\n",
              "    <tr>\n",
              "      <th>Western Europe</th>\n",
              "      <td>6</td>\n",
              "      <td>0.67</td>\n",
              "    </tr>\n",
              "    <tr>\n",
              "      <th>Oceania</th>\n",
              "      <th>Australia and New Zealand</th>\n",
              "      <td>2</td>\n",
              "      <td>0.71</td>\n",
              "    </tr>\n",
              "  </tbody>\n",
              "</table>\n",
              "</div>"
            ],
            "text/plain": [
              "                                            SFS index 2017      \n",
              "                                                     count  mean\n",
              "Region Name Sub-region Name                                     \n",
              "Africa      Northern Africa                              5  0.34\n",
              "            Sub-Saharan Africa                          23  0.42\n",
              "Americas    Latin America and the Caribbean             18  0.54\n",
              "            Northern America                             2  0.71\n",
              "Asia        Central Asia                                 2  0.53\n",
              "            Eastern Asia                                 2  0.59\n",
              "            South-eastern Asia                           8  0.47\n",
              "            Southern Asia                                5  0.32\n",
              "            Western Asia                                 7  0.43\n",
              "Europe      Eastern Europe                               9  0.58\n",
              "            Northern Europe                              5  0.67\n",
              "            Southern Europe                              3  0.60\n",
              "            Western Europe                               6  0.67\n",
              "Oceania     Australia and New Zealand                    2  0.71"
            ]
          },
          "metadata": {
            "tags": []
          },
          "execution_count": 50
        }
      ]
    },
    {
      "cell_type": "markdown",
      "metadata": {
        "id": "Aao0TYVol15h"
      },
      "source": [
        "### Mapping the Indexes"
      ]
    },
    {
      "cell_type": "code",
      "metadata": {
        "colab": {
          "base_uri": "https://localhost:8080/"
        },
        "id": "pIMw2R8Gok5i",
        "outputId": "463236ba-6f73-4e1d-a6c7-cba129c63ab1"
      },
      "source": [
        "country_BCFNindex.columns"
      ],
      "execution_count": 153,
      "outputs": [
        {
          "output_type": "execute_result",
          "data": {
            "text/plain": [
              "Index(['No ', 'Country', 'Index', 'food_loss_waste', 'sustainable_ag',\n",
              "       'nutrition_challenge', 'ISO3', 'Latitude', 'Longitude', 'Region Code',\n",
              "       'Region Name', 'Sub-region Code', 'Sub-region Name'],\n",
              "      dtype='object')"
            ]
          },
          "metadata": {
            "tags": []
          },
          "execution_count": 153
        }
      ]
    },
    {
      "cell_type": "code",
      "metadata": {
        "colab": {
          "base_uri": "https://localhost:8080/"
        },
        "id": "VRBDM08ronkd",
        "outputId": "6462be7f-3931-41eb-ad05-f2ada021c189"
      },
      "source": [
        "country_gindex.columns"
      ],
      "execution_count": 154,
      "outputs": [
        {
          "output_type": "execute_result",
          "data": {
            "text/plain": [
              "Index(['Country', 'ISO3', 'SFS index 2000-2003', 'SFS index 2004-2006',\n",
              "       'SFS index 2007-2009', 'SFS index 2010-2012', 'SFS index 2013-2016',\n",
              "       'SFS index 2017', 'Latitude', 'Longitude', 'Region Code', 'Region Name',\n",
              "       'Sub-region Code', 'Sub-region Name'],\n",
              "      dtype='object')"
            ]
          },
          "metadata": {
            "tags": []
          },
          "execution_count": 154
        }
      ]
    },
    {
      "cell_type": "code",
      "metadata": {
        "colab": {
          "base_uri": "https://localhost:8080/",
          "height": 236
        },
        "id": "NpNYRN0eXHW0",
        "outputId": "016e8021-7b71-4c0f-fb35-c72ea5e1e781"
      },
      "source": [
        "# dataframe for mapping \n",
        "index_map = country_gindex.merge(country_BCFNindex, on = [\"ISO3\",'Latitude', 'Longitude', 'Region Code',\n",
        "       'Region Name', 'Sub-region Code', 'Sub-region Name'], how = \"outer\" )\n",
        "index_map.reset_index()\n",
        "index_map.head(2)\n",
        "\n"
      ],
      "execution_count": 184,
      "outputs": [
        {
          "output_type": "execute_result",
          "data": {
            "text/html": [
              "<div>\n",
              "<style scoped>\n",
              "    .dataframe tbody tr th:only-of-type {\n",
              "        vertical-align: middle;\n",
              "    }\n",
              "\n",
              "    .dataframe tbody tr th {\n",
              "        vertical-align: top;\n",
              "    }\n",
              "\n",
              "    .dataframe thead th {\n",
              "        text-align: right;\n",
              "    }\n",
              "</style>\n",
              "<table border=\"1\" class=\"dataframe\">\n",
              "  <thead>\n",
              "    <tr style=\"text-align: right;\">\n",
              "      <th></th>\n",
              "      <th>Country_x</th>\n",
              "      <th>ISO3</th>\n",
              "      <th>SFS index 2000-2003</th>\n",
              "      <th>SFS index 2004-2006</th>\n",
              "      <th>SFS index 2007-2009</th>\n",
              "      <th>SFS index 2010-2012</th>\n",
              "      <th>SFS index 2013-2016</th>\n",
              "      <th>SFS index 2017</th>\n",
              "      <th>Latitude</th>\n",
              "      <th>Longitude</th>\n",
              "      <th>Region Code</th>\n",
              "      <th>Region Name</th>\n",
              "      <th>Sub-region Code</th>\n",
              "      <th>Sub-region Name</th>\n",
              "      <th>No</th>\n",
              "      <th>Country_y</th>\n",
              "      <th>Index</th>\n",
              "      <th>food_loss_waste</th>\n",
              "      <th>sustainable_ag</th>\n",
              "      <th>nutrition_challenge</th>\n",
              "    </tr>\n",
              "  </thead>\n",
              "  <tbody>\n",
              "    <tr>\n",
              "      <th>0</th>\n",
              "      <td>Algeria</td>\n",
              "      <td>DZA</td>\n",
              "      <td>0.1633</td>\n",
              "      <td>0.1719</td>\n",
              "      <td>0.2140</td>\n",
              "      <td>0.2903</td>\n",
              "      <td>0.3123</td>\n",
              "      <td>0.3097</td>\n",
              "      <td>28.16474462</td>\n",
              "      <td>2.63351219</td>\n",
              "      <td>2</td>\n",
              "      <td>Africa</td>\n",
              "      <td>15</td>\n",
              "      <td>Northern Africa</td>\n",
              "      <td>NaN</td>\n",
              "      <td>NaN</td>\n",
              "      <td>NaN</td>\n",
              "      <td>NaN</td>\n",
              "      <td>NaN</td>\n",
              "      <td>NaN</td>\n",
              "    </tr>\n",
              "    <tr>\n",
              "      <th>1</th>\n",
              "      <td>Argentina</td>\n",
              "      <td>ARG</td>\n",
              "      <td>0.5416</td>\n",
              "      <td>0.5508</td>\n",
              "      <td>0.5697</td>\n",
              "      <td>0.5748</td>\n",
              "      <td>0.5728</td>\n",
              "      <td>0.5700</td>\n",
              "      <td>-34.98567234</td>\n",
              "      <td>-65.12225892</td>\n",
              "      <td>19</td>\n",
              "      <td>Americas</td>\n",
              "      <td>419</td>\n",
              "      <td>Latin America and the Caribbean</td>\n",
              "      <td>13.0</td>\n",
              "      <td>Argentina</td>\n",
              "      <td>71.5</td>\n",
              "      <td>83.4</td>\n",
              "      <td>66.9</td>\n",
              "      <td>64.1</td>\n",
              "    </tr>\n",
              "  </tbody>\n",
              "</table>\n",
              "</div>"
            ],
            "text/plain": [
              "   Country_x ISO3  ...  sustainable_ag  nutrition_challenge\n",
              "0    Algeria  DZA  ...             NaN                  NaN\n",
              "1  Argentina  ARG  ...            66.9                 64.1\n",
              "\n",
              "[2 rows x 20 columns]"
            ]
          },
          "metadata": {
            "tags": []
          },
          "execution_count": 184
        }
      ]
    },
    {
      "cell_type": "markdown",
      "metadata": {
        "id": "3qPk3hiUQvRQ"
      },
      "source": [
        "### Checking values between columns of countries names\n",
        "\n",
        "Comparison names, fill NaN, del columns \n"
      ]
    },
    {
      "cell_type": "code",
      "metadata": {
        "id": "Tz6RoSy9NIYB"
      },
      "source": [
        "#Compare\n",
        "index_map['compare_countries']= np.where(index_map['Country_x'] ==index_map['Country_y'],'True', 'False') \n"
      ],
      "execution_count": 180,
      "outputs": []
    },
    {
      "cell_type": "code",
      "metadata": {
        "id": "gvckn-pTN2BS"
      },
      "source": [
        "#dubset to know what are the issue\n",
        "dfset = index_map[[\"Country_x\", \"ISO3\",\"Country_y\",\"compare_countries\" ]]\n"
      ],
      "execution_count": 182,
      "outputs": []
    },
    {
      "cell_type": "code",
      "metadata": {
        "id": "Pv-ao0djNbAj"
      },
      "source": [
        "uncommon_names = dfset[dfset['compare_countries'] == 'False']"
      ],
      "execution_count": 183,
      "outputs": []
    },
    {
      "cell_type": "code",
      "metadata": {
        "colab": {
          "base_uri": "https://localhost:8080/",
          "height": 153
        },
        "id": "dg2Gb1PAOw6E",
        "outputId": "6467a977-379e-4fdd-c546-7de0fddbba36"
      },
      "source": [
        "#function to select a row based on column value, checking the values \n",
        "index_map.loc[index_map['Country_y'] == \"Croatia\"]"
      ],
      "execution_count": 173,
      "outputs": [
        {
          "output_type": "execute_result",
          "data": {
            "text/html": [
              "<div>\n",
              "<style scoped>\n",
              "    .dataframe tbody tr th:only-of-type {\n",
              "        vertical-align: middle;\n",
              "    }\n",
              "\n",
              "    .dataframe tbody tr th {\n",
              "        vertical-align: top;\n",
              "    }\n",
              "\n",
              "    .dataframe thead th {\n",
              "        text-align: right;\n",
              "    }\n",
              "</style>\n",
              "<table border=\"1\" class=\"dataframe\">\n",
              "  <thead>\n",
              "    <tr style=\"text-align: right;\">\n",
              "      <th></th>\n",
              "      <th>Country_x</th>\n",
              "      <th>ISO3</th>\n",
              "      <th>SFS index 2000-2003</th>\n",
              "      <th>SFS index 2004-2006</th>\n",
              "      <th>SFS index 2007-2009</th>\n",
              "      <th>SFS index 2010-2012</th>\n",
              "      <th>SFS index 2013-2016</th>\n",
              "      <th>SFS index 2017</th>\n",
              "      <th>Latitude</th>\n",
              "      <th>Longitude</th>\n",
              "      <th>Region Code</th>\n",
              "      <th>Region Name</th>\n",
              "      <th>Sub-region Code</th>\n",
              "      <th>Sub-region Name</th>\n",
              "      <th>No</th>\n",
              "      <th>Country_y</th>\n",
              "      <th>Index</th>\n",
              "      <th>food_loss_waste</th>\n",
              "      <th>sustainable_ag</th>\n",
              "      <th>nutrition_challenge</th>\n",
              "      <th>compare_countries</th>\n",
              "    </tr>\n",
              "  </thead>\n",
              "  <tbody>\n",
              "    <tr>\n",
              "      <th>97</th>\n",
              "      <td>NaN</td>\n",
              "      <td>HRV</td>\n",
              "      <td>NaN</td>\n",
              "      <td>NaN</td>\n",
              "      <td>NaN</td>\n",
              "      <td>NaN</td>\n",
              "      <td>NaN</td>\n",
              "      <td>NaN</td>\n",
              "      <td>45.18877041</td>\n",
              "      <td>16.42353441</td>\n",
              "      <td>150</td>\n",
              "      <td>Europe</td>\n",
              "      <td>39</td>\n",
              "      <td>Southern Europe</td>\n",
              "      <td>14.0</td>\n",
              "      <td>Croatia</td>\n",
              "      <td>71.4</td>\n",
              "      <td>77.1</td>\n",
              "      <td>66.3</td>\n",
              "      <td>70.9</td>\n",
              "      <td>False</td>\n",
              "    </tr>\n",
              "  </tbody>\n",
              "</table>\n",
              "</div>"
            ],
            "text/plain": [
              "   Country_x ISO3  ...  nutrition_challenge  compare_countries\n",
              "97       NaN  HRV  ...                 70.9              False\n",
              "\n",
              "[1 rows x 21 columns]"
            ]
          },
          "metadata": {
            "tags": []
          },
          "execution_count": 173
        }
      ]
    },
    {
      "cell_type": "code",
      "metadata": {
        "id": "rmIeykSlP274"
      },
      "source": [
        "#Remplace the names of NaN values in Country_X (Oficial UN names) with the value from other colums (\"Country_y\")\n",
        "index_map['Country_x'].fillna(index_map['Country_y'], inplace=True)\n"
      ],
      "execution_count": 187,
      "outputs": []
    },
    {
      "cell_type": "code",
      "metadata": {
        "id": "qCjioRQER6CE"
      },
      "source": [
        "map_2index = index_map.drop(['Country_y'], axis=1)"
      ],
      "execution_count": 189,
      "outputs": []
    },
    {
      "cell_type": "code",
      "metadata": {
        "colab": {
          "base_uri": "https://localhost:8080/"
        },
        "id": "CArAfYpmo5AK",
        "outputId": "7ce8033c-50d3-4516-a713-876c1362bf15"
      },
      "source": [
        "map_2index.isnull().any()\n"
      ],
      "execution_count": 192,
      "outputs": [
        {
          "output_type": "execute_result",
          "data": {
            "text/plain": [
              "Country_x              False\n",
              "ISO3                   False\n",
              "SFS index 2000-2003     True\n",
              "SFS index 2004-2006     True\n",
              "SFS index 2007-2009     True\n",
              "SFS index 2010-2012     True\n",
              "SFS index 2013-2016     True\n",
              "SFS index 2017          True\n",
              "Latitude               False\n",
              "Longitude              False\n",
              "Region Code            False\n",
              "Region Name            False\n",
              "Sub-region Code        False\n",
              "Sub-region Name        False\n",
              "No                      True\n",
              "Index                   True\n",
              "food_loss_waste         True\n",
              "sustainable_ag          True\n",
              "nutrition_challenge     True\n",
              "dtype: bool"
            ]
          },
          "metadata": {
            "tags": []
          },
          "execution_count": 192
        }
      ]
    },
    {
      "cell_type": "markdown",
      "metadata": {
        "id": "NyDjn12kSqf8"
      },
      "source": [
        "### Tricks code"
      ]
    },
    {
      "cell_type": "code",
      "metadata": {
        "colab": {
          "base_uri": "https://localhost:8080/",
          "height": 104
        },
        "id": "BLz97toyKsdl",
        "outputId": "74d8b396-5745-459c-bd14-d21cfde5473c"
      },
      "source": [
        "#Checking the  null values - NaN- in a column\n",
        "nan_values_iso = map_2index[map_2index['ISO3'].isna()]\n",
        "nan_values_iso "
      ],
      "execution_count": 195,
      "outputs": [
        {
          "output_type": "execute_result",
          "data": {
            "text/html": [
              "<div>\n",
              "<style scoped>\n",
              "    .dataframe tbody tr th:only-of-type {\n",
              "        vertical-align: middle;\n",
              "    }\n",
              "\n",
              "    .dataframe tbody tr th {\n",
              "        vertical-align: top;\n",
              "    }\n",
              "\n",
              "    .dataframe thead th {\n",
              "        text-align: right;\n",
              "    }\n",
              "</style>\n",
              "<table border=\"1\" class=\"dataframe\">\n",
              "  <thead>\n",
              "    <tr style=\"text-align: right;\">\n",
              "      <th></th>\n",
              "      <th>Country_x</th>\n",
              "      <th>ISO3</th>\n",
              "      <th>SFS index 2000-2003</th>\n",
              "      <th>SFS index 2004-2006</th>\n",
              "      <th>SFS index 2007-2009</th>\n",
              "      <th>SFS index 2010-2012</th>\n",
              "      <th>SFS index 2013-2016</th>\n",
              "      <th>SFS index 2017</th>\n",
              "      <th>Latitude</th>\n",
              "      <th>Longitude</th>\n",
              "      <th>Region Code</th>\n",
              "      <th>Region Name</th>\n",
              "      <th>Sub-region Code</th>\n",
              "      <th>Sub-region Name</th>\n",
              "      <th>No</th>\n",
              "      <th>Index</th>\n",
              "      <th>food_loss_waste</th>\n",
              "      <th>sustainable_ag</th>\n",
              "      <th>nutrition_challenge</th>\n",
              "    </tr>\n",
              "  </thead>\n",
              "  <tbody>\n",
              "  </tbody>\n",
              "</table>\n",
              "</div>"
            ],
            "text/plain": [
              "Empty DataFrame\n",
              "Columns: [Country_x, ISO3, SFS index 2000-2003, SFS index 2004-2006, SFS index 2007-2009, SFS index 2010-2012, SFS index 2013-2016, SFS index 2017, Latitude, Longitude, Region Code, Region Name, Sub-region Code, Sub-region Name, No , Index, food_loss_waste, sustainable_ag, nutrition_challenge]\n",
              "Index: []"
            ]
          },
          "metadata": {
            "tags": []
          },
          "execution_count": 195
        }
      ]
    },
    {
      "cell_type": "markdown",
      "metadata": {
        "id": "O2XSGFmggZDi"
      },
      "source": [
        "Importing Map from Geopandas"
      ]
    },
    {
      "cell_type": "code",
      "metadata": {
        "colab": {
          "base_uri": "https://localhost:8080/"
        },
        "id": "-1FjqMn1bydA",
        "outputId": "537a9220-425d-4033-d53e-b78b425803b3"
      },
      "source": [
        "#importing the dataset Geopandas\n",
        "warnings.filterwarnings('ignore')\n",
        "%matplotlib inline\n",
        "geopandas.datasets.available"
      ],
      "execution_count": 196,
      "outputs": [
        {
          "output_type": "execute_result",
          "data": {
            "text/plain": [
              "['naturalearth_lowres', 'naturalearth_cities', 'nybb']"
            ]
          },
          "metadata": {
            "tags": []
          },
          "execution_count": 196
        }
      ]
    },
    {
      "cell_type": "code",
      "metadata": {
        "colab": {
          "base_uri": "https://localhost:8080/",
          "height": 243
        },
        "id": "inycDGmGgVdU",
        "outputId": "6d36bcb8-0a59-4bf2-a630-8bc7227685f9"
      },
      "source": [
        "#importing the  dataset from geopandas with geoinformation Lat- Long\n",
        "world = geopandas.read_file(geopandas.datasets.get_path(\"naturalearth_lowres\"))\n",
        "print(\"Geometry Column Name : \", world.geometry.name)\n",
        "print(\"Dataset Size : \", world.shape)\n",
        "world.head()"
      ],
      "execution_count": 197,
      "outputs": [
        {
          "output_type": "stream",
          "text": [
            "Geometry Column Name :  geometry\n",
            "Dataset Size :  (177, 6)\n"
          ],
          "name": "stdout"
        },
        {
          "output_type": "execute_result",
          "data": {
            "text/html": [
              "<div>\n",
              "<style scoped>\n",
              "    .dataframe tbody tr th:only-of-type {\n",
              "        vertical-align: middle;\n",
              "    }\n",
              "\n",
              "    .dataframe tbody tr th {\n",
              "        vertical-align: top;\n",
              "    }\n",
              "\n",
              "    .dataframe thead th {\n",
              "        text-align: right;\n",
              "    }\n",
              "</style>\n",
              "<table border=\"1\" class=\"dataframe\">\n",
              "  <thead>\n",
              "    <tr style=\"text-align: right;\">\n",
              "      <th></th>\n",
              "      <th>pop_est</th>\n",
              "      <th>continent</th>\n",
              "      <th>name</th>\n",
              "      <th>iso_a3</th>\n",
              "      <th>gdp_md_est</th>\n",
              "      <th>geometry</th>\n",
              "    </tr>\n",
              "  </thead>\n",
              "  <tbody>\n",
              "    <tr>\n",
              "      <th>0</th>\n",
              "      <td>920938</td>\n",
              "      <td>Oceania</td>\n",
              "      <td>Fiji</td>\n",
              "      <td>FJI</td>\n",
              "      <td>8374.0</td>\n",
              "      <td>MULTIPOLYGON (((180.00000 -16.06713, 180.00000...</td>\n",
              "    </tr>\n",
              "    <tr>\n",
              "      <th>1</th>\n",
              "      <td>53950935</td>\n",
              "      <td>Africa</td>\n",
              "      <td>Tanzania</td>\n",
              "      <td>TZA</td>\n",
              "      <td>150600.0</td>\n",
              "      <td>POLYGON ((33.90371 -0.95000, 34.07262 -1.05982...</td>\n",
              "    </tr>\n",
              "    <tr>\n",
              "      <th>2</th>\n",
              "      <td>603253</td>\n",
              "      <td>Africa</td>\n",
              "      <td>W. Sahara</td>\n",
              "      <td>ESH</td>\n",
              "      <td>906.5</td>\n",
              "      <td>POLYGON ((-8.66559 27.65643, -8.66512 27.58948...</td>\n",
              "    </tr>\n",
              "    <tr>\n",
              "      <th>3</th>\n",
              "      <td>35623680</td>\n",
              "      <td>North America</td>\n",
              "      <td>Canada</td>\n",
              "      <td>CAN</td>\n",
              "      <td>1674000.0</td>\n",
              "      <td>MULTIPOLYGON (((-122.84000 49.00000, -122.9742...</td>\n",
              "    </tr>\n",
              "    <tr>\n",
              "      <th>4</th>\n",
              "      <td>326625791</td>\n",
              "      <td>North America</td>\n",
              "      <td>United States of America</td>\n",
              "      <td>USA</td>\n",
              "      <td>18560000.0</td>\n",
              "      <td>MULTIPOLYGON (((-122.84000 49.00000, -120.0000...</td>\n",
              "    </tr>\n",
              "  </tbody>\n",
              "</table>\n",
              "</div>"
            ],
            "text/plain": [
              "     pop_est  ...                                           geometry\n",
              "0     920938  ...  MULTIPOLYGON (((180.00000 -16.06713, 180.00000...\n",
              "1   53950935  ...  POLYGON ((33.90371 -0.95000, 34.07262 -1.05982...\n",
              "2     603253  ...  POLYGON ((-8.66559 27.65643, -8.66512 27.58948...\n",
              "3   35623680  ...  MULTIPOLYGON (((-122.84000 49.00000, -122.9742...\n",
              "4  326625791  ...  MULTIPOLYGON (((-122.84000 49.00000, -120.0000...\n",
              "\n",
              "[5 rows x 6 columns]"
            ]
          },
          "metadata": {
            "tags": []
          },
          "execution_count": 197
        }
      ]
    },
    {
      "cell_type": "code",
      "metadata": {
        "colab": {
          "base_uri": "https://localhost:8080/",
          "height": 483
        },
        "id": "OHWo48vSgWHb",
        "outputId": "cf13258a-7c8b-4308-d0db-37ee71f1d175"
      },
      "source": [
        "#This is the plot that bring the dataset above! :)\n",
        "world.plot(figsize=(20,8));"
      ],
      "execution_count": 198,
      "outputs": [
        {
          "output_type": "display_data",
          "data": {
            "image/png": "[encoded data removed]",
            "text/plain": [
              "<Figure size 1440x576 with 1 Axes>"
            ]
          },
          "metadata": {
            "tags": [],
            "needs_background": "light"
          }
        }
      ]
    },
    {
      "cell_type": "code",
      "metadata": {
        "id": "vxEQ67hShQSu"
      },
      "source": [
        "import plotly.express as px"
      ],
      "execution_count": 220,
      "outputs": []
    },
    {
      "cell_type": "code",
      "metadata": {
        "colab": {
          "base_uri": "https://localhost:8080/",
          "height": 574
        },
        "id": "WR3AXKdBVjr_",
        "outputId": "5a95f3df-fbe0-417c-8018-2189ac76b5f0"
      },
      "source": [
        "#merge the 2 datasets: geopandas + map_2index\n",
        "# I recommend to merge first the dataset world and after the pandas dataframe, to expose the geodata, at the contrary doesn't work\n",
        "maping_index = world.merge(map_2index, how=\"left\", left_on=['name'], right_on=['Country_x'])\n",
        "print(\"Type of DataFrame : \", type(maping_index))\n",
        "maping_index.head(5)\n"
      ],
      "execution_count": 208,
      "outputs": [
        {
          "output_type": "stream",
          "text": [
            "Type of DataFrame :  <class 'geopandas.geodataframe.GeoDataFrame'>\n"
          ],
          "name": "stdout"
        },
        {
          "output_type": "execute_result",
          "data": {
            "text/html": [
              "<div>\n",
              "<style scoped>\n",
              "    .dataframe tbody tr th:only-of-type {\n",
              "        vertical-align: middle;\n",
              "    }\n",
              "\n",
              "    .dataframe tbody tr th {\n",
              "        vertical-align: top;\n",
              "    }\n",
              "\n",
              "    .dataframe thead th {\n",
              "        text-align: right;\n",
              "    }\n",
              "</style>\n",
              "<table border=\"1\" class=\"dataframe\">\n",
              "  <thead>\n",
              "    <tr style=\"text-align: right;\">\n",
              "      <th></th>\n",
              "      <th>pop_est</th>\n",
              "      <th>continent</th>\n",
              "      <th>name</th>\n",
              "      <th>iso_a3</th>\n",
              "      <th>gdp_md_est</th>\n",
              "      <th>geometry</th>\n",
              "      <th>Country_x</th>\n",
              "      <th>ISO3</th>\n",
              "      <th>SFS index 2000-2003</th>\n",
              "      <th>SFS index 2004-2006</th>\n",
              "      <th>SFS index 2007-2009</th>\n",
              "      <th>SFS index 2010-2012</th>\n",
              "      <th>SFS index 2013-2016</th>\n",
              "      <th>SFS index 2017</th>\n",
              "      <th>Latitude</th>\n",
              "      <th>Longitude</th>\n",
              "      <th>Region Code</th>\n",
              "      <th>Region Name</th>\n",
              "      <th>Sub-region Code</th>\n",
              "      <th>Sub-region Name</th>\n",
              "      <th>No</th>\n",
              "      <th>Index</th>\n",
              "      <th>food_loss_waste</th>\n",
              "      <th>sustainable_ag</th>\n",
              "      <th>nutrition_challenge</th>\n",
              "    </tr>\n",
              "  </thead>\n",
              "  <tbody>\n",
              "    <tr>\n",
              "      <th>0</th>\n",
              "      <td>920938</td>\n",
              "      <td>Oceania</td>\n",
              "      <td>Fiji</td>\n",
              "      <td>FJI</td>\n",
              "      <td>8374.0</td>\n",
              "      <td>MULTIPOLYGON (((180.00000 -16.06713, 180.00000...</td>\n",
              "      <td>NaN</td>\n",
              "      <td>NaN</td>\n",
              "      <td>NaN</td>\n",
              "      <td>NaN</td>\n",
              "      <td>NaN</td>\n",
              "      <td>NaN</td>\n",
              "      <td>NaN</td>\n",
              "      <td>NaN</td>\n",
              "      <td>NaN</td>\n",
              "      <td>NaN</td>\n",
              "      <td>NaN</td>\n",
              "      <td>NaN</td>\n",
              "      <td>NaN</td>\n",
              "      <td>NaN</td>\n",
              "      <td>NaN</td>\n",
              "      <td>NaN</td>\n",
              "      <td>NaN</td>\n",
              "      <td>NaN</td>\n",
              "      <td>NaN</td>\n",
              "    </tr>\n",
              "    <tr>\n",
              "      <th>1</th>\n",
              "      <td>53950935</td>\n",
              "      <td>Africa</td>\n",
              "      <td>Tanzania</td>\n",
              "      <td>TZA</td>\n",
              "      <td>150600.0</td>\n",
              "      <td>POLYGON ((33.90371 -0.95000, 34.07262 -1.05982...</td>\n",
              "      <td>Tanzania</td>\n",
              "      <td>TZA</td>\n",
              "      <td>0.4226</td>\n",
              "      <td>0.4168</td>\n",
              "      <td>0.4377</td>\n",
              "      <td>0.4239</td>\n",
              "      <td>0.4014</td>\n",
              "      <td>0.4079</td>\n",
              "      <td>-6.273241244</td>\n",
              "      <td>34.79620168</td>\n",
              "      <td>2</td>\n",
              "      <td>Africa</td>\n",
              "      <td>202</td>\n",
              "      <td>Sub-Saharan Africa</td>\n",
              "      <td>30.0</td>\n",
              "      <td>67.4</td>\n",
              "      <td>70.3</td>\n",
              "      <td>70.5</td>\n",
              "      <td>61.3</td>\n",
              "    </tr>\n",
              "    <tr>\n",
              "      <th>2</th>\n",
              "      <td>603253</td>\n",
              "      <td>Africa</td>\n",
              "      <td>W. Sahara</td>\n",
              "      <td>ESH</td>\n",
              "      <td>906.5</td>\n",
              "      <td>POLYGON ((-8.66559 27.65643, -8.66512 27.58948...</td>\n",
              "      <td>NaN</td>\n",
              "      <td>NaN</td>\n",
              "      <td>NaN</td>\n",
              "      <td>NaN</td>\n",
              "      <td>NaN</td>\n",
              "      <td>NaN</td>\n",
              "      <td>NaN</td>\n",
              "      <td>NaN</td>\n",
              "      <td>NaN</td>\n",
              "      <td>NaN</td>\n",
              "      <td>NaN</td>\n",
              "      <td>NaN</td>\n",
              "      <td>NaN</td>\n",
              "      <td>NaN</td>\n",
              "      <td>NaN</td>\n",
              "      <td>NaN</td>\n",
              "      <td>NaN</td>\n",
              "      <td>NaN</td>\n",
              "      <td>NaN</td>\n",
              "    </tr>\n",
              "    <tr>\n",
              "      <th>3</th>\n",
              "      <td>35623680</td>\n",
              "      <td>North America</td>\n",
              "      <td>Canada</td>\n",
              "      <td>CAN</td>\n",
              "      <td>1674000.0</td>\n",
              "      <td>MULTIPOLYGON (((-122.84000 49.00000, -122.9742...</td>\n",
              "      <td>Canada</td>\n",
              "      <td>CAN</td>\n",
              "      <td>NaN</td>\n",
              "      <td>NaN</td>\n",
              "      <td>0.7242</td>\n",
              "      <td>0.7353</td>\n",
              "      <td>0.7268</td>\n",
              "      <td>0.7193</td>\n",
              "      <td>61.4126317</td>\n",
              "      <td>-98.23039804</td>\n",
              "      <td>19</td>\n",
              "      <td>Americas</td>\n",
              "      <td>21</td>\n",
              "      <td>Northern America</td>\n",
              "      <td>3.0</td>\n",
              "      <td>75.3</td>\n",
              "      <td>82.1</td>\n",
              "      <td>73.0</td>\n",
              "      <td>70.9</td>\n",
              "    </tr>\n",
              "    <tr>\n",
              "      <th>4</th>\n",
              "      <td>326625791</td>\n",
              "      <td>North America</td>\n",
              "      <td>United States of America</td>\n",
              "      <td>USA</td>\n",
              "      <td>18560000.0</td>\n",
              "      <td>MULTIPOLYGON (((-122.84000 49.00000, -120.0000...</td>\n",
              "      <td>NaN</td>\n",
              "      <td>NaN</td>\n",
              "      <td>NaN</td>\n",
              "      <td>NaN</td>\n",
              "      <td>NaN</td>\n",
              "      <td>NaN</td>\n",
              "      <td>NaN</td>\n",
              "      <td>NaN</td>\n",
              "      <td>NaN</td>\n",
              "      <td>NaN</td>\n",
              "      <td>NaN</td>\n",
              "      <td>NaN</td>\n",
              "      <td>NaN</td>\n",
              "      <td>NaN</td>\n",
              "      <td>NaN</td>\n",
              "      <td>NaN</td>\n",
              "      <td>NaN</td>\n",
              "      <td>NaN</td>\n",
              "      <td>NaN</td>\n",
              "    </tr>\n",
              "  </tbody>\n",
              "</table>\n",
              "</div>"
            ],
            "text/plain": [
              "     pop_est      continent  ... sustainable_ag nutrition_challenge\n",
              "0     920938        Oceania  ...            NaN                 NaN\n",
              "1   53950935         Africa  ...           70.5                61.3\n",
              "2     603253         Africa  ...            NaN                 NaN\n",
              "3   35623680  North America  ...           73.0                70.9\n",
              "4  326625791  North America  ...            NaN                 NaN\n",
              "\n",
              "[5 rows x 25 columns]"
            ]
          },
          "metadata": {
            "tags": []
          },
          "execution_count": 208
        }
      ]
    },
    {
      "cell_type": "code",
      "metadata": {
        "colab": {
          "base_uri": "https://localhost:8080/",
          "height": 104
        },
        "id": "bcmkDsb6afRr",
        "outputId": "968030a7-f2a6-4869-f831-0c3a6ee5442d"
      },
      "source": [
        "#function to select a row based on column value, checking the values \n",
        "maping_index.loc[maping_index['Country_x'] == \"Vier Nam\"]"
      ],
      "execution_count": 209,
      "outputs": [
        {
          "output_type": "execute_result",
          "data": {
            "text/html": [
              "<div>\n",
              "<style scoped>\n",
              "    .dataframe tbody tr th:only-of-type {\n",
              "        vertical-align: middle;\n",
              "    }\n",
              "\n",
              "    .dataframe tbody tr th {\n",
              "        vertical-align: top;\n",
              "    }\n",
              "\n",
              "    .dataframe thead th {\n",
              "        text-align: right;\n",
              "    }\n",
              "</style>\n",
              "<table border=\"1\" class=\"dataframe\">\n",
              "  <thead>\n",
              "    <tr style=\"text-align: right;\">\n",
              "      <th></th>\n",
              "      <th>pop_est</th>\n",
              "      <th>continent</th>\n",
              "      <th>name</th>\n",
              "      <th>iso_a3</th>\n",
              "      <th>gdp_md_est</th>\n",
              "      <th>geometry</th>\n",
              "      <th>Country_x</th>\n",
              "      <th>ISO3</th>\n",
              "      <th>SFS index 2000-2003</th>\n",
              "      <th>SFS index 2004-2006</th>\n",
              "      <th>SFS index 2007-2009</th>\n",
              "      <th>SFS index 2010-2012</th>\n",
              "      <th>SFS index 2013-2016</th>\n",
              "      <th>SFS index 2017</th>\n",
              "      <th>Latitude</th>\n",
              "      <th>Longitude</th>\n",
              "      <th>Region Code</th>\n",
              "      <th>Region Name</th>\n",
              "      <th>Sub-region Code</th>\n",
              "      <th>Sub-region Name</th>\n",
              "      <th>No</th>\n",
              "      <th>Index</th>\n",
              "      <th>food_loss_waste</th>\n",
              "      <th>sustainable_ag</th>\n",
              "      <th>nutrition_challenge</th>\n",
              "    </tr>\n",
              "  </thead>\n",
              "  <tbody>\n",
              "  </tbody>\n",
              "</table>\n",
              "</div>"
            ],
            "text/plain": [
              "Empty GeoDataFrame\n",
              "Columns: [pop_est, continent, name, iso_a3, gdp_md_est, geometry, Country_x, ISO3, SFS index 2000-2003, SFS index 2004-2006, SFS index 2007-2009, SFS index 2010-2012, SFS index 2013-2016, SFS index 2017, Latitude, Longitude, Region Code, Region Name, Sub-region Code, Sub-region Name, No , Index, food_loss_waste, sustainable_ag, nutrition_challenge]\n",
              "Index: []"
            ]
          },
          "metadata": {
            "tags": []
          },
          "execution_count": 209
        }
      ]
    },
    {
      "cell_type": "code",
      "metadata": {
        "colab": {
          "base_uri": "https://localhost:8080/",
          "height": 459
        },
        "id": "ckLwtOudcUJP",
        "outputId": "89675842-2fa5-41f6-b1be-796c3e51b0d1"
      },
      "source": [
        "#Cholorplet Gamers of AgeGuess around the world. See the spaces in gray                   \n",
        "# Increase the sharpness of the display\n",
        "plt.rcParams['figure.dpi'] = 100\n",
        "maping_index.plot(\"Index\", figsize=(20,6),\n",
        "                           legend=True,\n",
        "                           legend_kwds={\"label\":\"Participation in AgeGuess Project\"},\n",
        "                           cmap=plt.cm.BrBG,\n",
        "                           missing_kwds={\n",
        "                               \"color\":\"lightgrey\",\n",
        "                               \"edgecolor\":\"black\",\n",
        "                               \"hatch\":\"---\",\n",
        "                               \"label\":\"Missing Values\",\n",
        "                                                     }\n",
        "                          )\n",
        "\n",
        "plt.title(\"World Gamers Report\");"
      ],
      "execution_count": 215,
      "outputs": [
        {
          "output_type": "display_data",
          "data": {
            "image/png": "[encoded data removed]",
            "text/plain": [
              "<Figure size 2000x600 with 2 Axes>"
            ]
          },
          "metadata": {
            "tags": [],
            "needs_background": "light"
          }
        }
      ]
    },
    {
      "cell_type": "code",
      "metadata": {
        "colab": {
          "base_uri": "https://localhost:8080/",
          "height": 247
        },
        "id": "QG5uqTbRgd1p",
        "outputId": "1f4a7a7f-3f16-44cb-97de-142a885fa8fd"
      },
      "source": [
        "#df = px.data.gapminder().query(\"index\")\n",
        "fig = px.choropleth(maping_index, locations = \"iso_a3\",\n",
        "                    color=\"Index\", # variable\n",
        "                    hover_name=\"Country_x\",\n",
        "                    color_continuous_scale= px.colors.sequential.Plasma)\n",
        "fig.show()\n",
        "\n"
      ],
      "execution_count": 1,
      "outputs": [
        {
          "output_type": "error",
          "ename": "NameError",
          "evalue": "ignored",
          "traceback": [
            "\u001b[0;31m---------------------------------------------------------------------------\u001b[0m",
            "\u001b[0;31mNameError\u001b[0m                                 Traceback (most recent call last)",
            "\u001b[0;32m<ipython-input-1-6994324b325c>\u001b[0m in \u001b[0;36m<module>\u001b[0;34m()\u001b[0m\n\u001b[1;32m      1\u001b[0m \u001b[0;31m#df = px.data.gapminder().query(\"index\")\u001b[0m\u001b[0;34m\u001b[0m\u001b[0;34m\u001b[0m\u001b[0;34m\u001b[0m\u001b[0m\n\u001b[0;32m----> 2\u001b[0;31m fig = px.choropleth(maping_index, locations = \"iso_a3\",\n\u001b[0m\u001b[1;32m      3\u001b[0m                     \u001b[0mcolor\u001b[0m\u001b[0;34m=\u001b[0m\u001b[0;34m\"Index\"\u001b[0m\u001b[0;34m,\u001b[0m \u001b[0;31m# variable\u001b[0m\u001b[0;34m\u001b[0m\u001b[0;34m\u001b[0m\u001b[0m\n\u001b[1;32m      4\u001b[0m                     \u001b[0mhover_name\u001b[0m\u001b[0;34m=\u001b[0m\u001b[0;34m\"Country_x\"\u001b[0m\u001b[0;34m,\u001b[0m\u001b[0;34m\u001b[0m\u001b[0;34m\u001b[0m\u001b[0m\n\u001b[1;32m      5\u001b[0m                     color_continuous_scale= px.colors.sequential.Plasma)\n",
            "\u001b[0;31mNameError\u001b[0m: name 'px' is not defined"
          ]
        }
      ]
    },
    {
      "cell_type": "code",
      "metadata": {
        "id": "uaaPQDHtf45Y"
      },
      "source": [
        "import plotly.graph_objects as go\n"
      ],
      "execution_count": 219,
      "outputs": []
    },
    {
      "cell_type": "code",
      "metadata": {
        "id": "2qbSdJZde8LY"
      },
      "source": [
        "fig = go.Figure(data=go.Choropleth(\n",
        "    locations=maping_index['iso_a3'],\n",
        "    z=maping_index['Index'].astype(float),\n",
        "    locationmode='USA-states',\n",
        "    colorscale='Reds',\n",
        "    autocolorscale=False,\n",
        "    text=maping_index['Country_x'], # hover text\n",
        "    marker_line_color='white', # line markers between states\n",
        "    colorbar_title=\"Index Value\"\n",
        "))\n",
        "\n",
        "fig.update_layout(\n",
        "    title_text='2011 US Agriculture Exports by State<br>(Hover for breakdown)',\n",
        "    geo = dict(\n",
        "        scope='usa',\n",
        "        projection=go.layout.geo.Projection(type = 'albers usa'),\n",
        "        showlakes=True, # lakes\n",
        "        lakecolor='rgb(255, 255, 255)'),"
      ],
      "execution_count": null,
      "outputs": []
    }
  ]
}